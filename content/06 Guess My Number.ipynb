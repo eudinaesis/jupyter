{
 "cells": [
  {
   "cell_type": "markdown",
   "metadata": {},
   "source": [
    "# Guess My Number\n",
    "** How would you go about guessing a whole number that you know is between 1 and 100 inclusive? **  \n",
    "\\# is used to write comments for humans to read in code cells. Everything after a \\# in a line is ignored by the program."
   ]
  },
  {
   "cell_type": "code",
   "execution_count": null,
   "metadata": {},
   "outputs": [],
   "source": [
    "import random #This imports a library that can generate random numbers"
   ]
  },
  {
   "cell_type": "code",
   "execution_count": null,
   "metadata": {},
   "outputs": [],
   "source": [
    "number = random.randint(1,100) # this selects a random integer from 1 to 100 inclusive\n",
    "guess = 0\n",
    "number_of_guesses=1\n",
    "while number != guess:\n",
    "    try:\n",
    "        guess = int(input(\"What number am I thinking of?\"))\n",
    "    except:\n",
    "        print(\"That's not an integer. Keeping last guess or zero for this try.\")\n",
    "    if guess < number:\n",
    "        print(\"Too low\")  \n",
    "    elif guess > number:\n",
    "        print(\"Too high\")      \n",
    "    else:\n",
    "        print(\"You got it in \" +str(number_of_guesses) + \" guesses!\")\n",
    "        if number_of_guesses > 7:\n",
    "            print(\"Can you think of a way to get to the number in fewer guesses?\")\n",
    "    number_of_guesses += 1\n",
    "print(\"Thanks for playing!\")"
   ]
  },
  {
   "cell_type": "markdown",
   "metadata": {},
   "source": [
    "Could you consistently get the number in 7 or fewer guess? If so, you probably found an efficient *algorithm* for guessing the number. An *algorithm* is set of instructions for solving a problem. One way you could have tried is starting your guesses at 1 and continuing until you got to the number. How many guesses could this take?  This time you think of a number and tell the computer if its guess is too high or too low."
   ]
  },
  {
   "cell_type": "code",
   "execution_count": null,
   "metadata": {},
   "outputs": [],
   "source": [
    "name = input(\"What is your name?\")\n",
    "print(\"Hello %s, please think of a whole number between 1 and 100 inclusive.\" % name )\n",
    "print(\"I will try to guess your number by starting at 1 and guessing up until I get it.\")\n",
    "feedback = \"l\"\n",
    "guess = 1\n",
    "while feedback is not \"c\":\n",
    "    feedback = input(\"Is your number %d? Type l for too low, h for too high, or c for correct:\" % guess)\n",
    "    guess += 1\n",
    "print(\"I got it in %s tries, %s!\" % (str(guess-1), name))\n",
    "    "
   ]
  },
  {
   "cell_type": "markdown",
   "metadata": {},
   "source": [
    "If you picked a really large number you may have gotten frustrated with the simple search algorthm there! Can we give the computer a better way to guess? Perhaps when you were guessing, you noticed that starting in the middle cut the possibilities in half. And then you could repeat that by starting in the middle again until you hit the number or reduce the possibities to one. Let's think about how we can code that."
   ]
  },
  {
   "cell_type": "code",
   "execution_count": null,
   "metadata": {},
   "outputs": [],
   "source": [
    "name = input(\"What is your name?\")\n",
    "print(\"Hello %s, please think of a whole number between 1 and 100 inclusive.\" % name )\n",
    "print(\"I will try to guess your number by cutting the possibilities in half each time.\")\n",
    "number_of_guesses = 1\n",
    "feedback = \"l\"\n",
    "low = 0\n",
    "high = 100\n",
    "while feedback[0] is not \"c\":\n",
    "    guess = (low + high) // 2\n",
    "    \n",
    "    feedback = input(\"Is your number %s? Type l for too low, h for too high, or c for correct:\" % str(guess))\n",
    "    feedback = str.lower(feedback[0])\n",
    "    if feedback == \"l\":\n",
    "        low = guess + 1\n",
    "    elif feedback ==\"h\":\n",
    "        high = guess - 1\n",
    "    elif feedback == \"c\":\n",
    "        print(\"I guessed it in %s tries, %s!\" % (str(number_of_guesses), name))\n",
    "    else:\n",
    "        print(\"Please use L for low, H for high, or C for correct in response to my guesses.\")\n",
    "    number_of_guesses += 1\n",
    "print(\"Thanks for playing!\")"
   ]
  },
  {
   "cell_type": "markdown",
   "metadata": {
    "collapsed": true
   },
   "source": [
    "### Can you write a guessing game? \n",
    "For example, use the names of the people in this class or animals for the list or have your player input a list.  \n",
    "You can use the sorted() function to alphabetize a list to use the binary search algorithm on."
   ]
  },
  {
   "cell_type": "markdown",
   "metadata": {},
   "source": []
  },
  {
   "cell_type": "code",
   "execution_count": null,
   "metadata": {},
   "outputs": [],
   "source": []
  },
  {
   "cell_type": "code",
   "execution_count": null,
   "metadata": {},
   "outputs": [],
   "source": []
  }
 ],
 "metadata": {
  "kernelspec": {
   "display_name": "Python 3",
   "language": "python",
   "name": "python3"
  },
  "language_info": {
   "codemirror_mode": {
    "name": "ipython",
    "version": 3
   },
   "file_extension": ".py",
   "mimetype": "text/x-python",
   "name": "python",
   "nbconvert_exporter": "python",
   "pygments_lexer": "ipython3",
   "version": "3.6.5"
  }
 },
 "nbformat": 4,
 "nbformat_minor": 2
}
