{
 "cells": [
  {
   "cell_type": "markdown",
   "metadata": {},
   "source": [
    "# Customizing Options and Scatterplots\n",
    "* Fonts\n",
    "* Axis number labels\n",
    "* Scatterplots"
   ]
  },
  {
   "cell_type": "code",
   "execution_count": null,
   "metadata": {},
   "outputs": [],
   "source": [
    "import matplotlib.pyplot as plt\n",
    "import matplotlib.font_manager as fm # I need this import for changing fonts to work\n",
    "import numpy as np # I will use this to set the tick mark distance for my axis and to make random number lists"
   ]
  },
  {
   "cell_type": "markdown",
   "metadata": {},
   "source": [
    "### Fonts\n",
    "There is no comprehesive list of available fonts for MatPLotLib as it is using the system fonts that are available on each machine. You can try any name in place of Times New Roman and see whether it works by running the cell. Search fonts and select \"Font preview and related settings\" to find the fonts available on your computer."
   ]
  },
  {
   "cell_type": "code",
   "execution_count": null,
   "metadata": {},
   "outputs": [],
   "source": [
    "plt.rcParams[\"font.family\"] = \"Arial\"\n",
    "\n",
    "plt.plot([1,2,3], [1,2,3])\n",
    "plt.title('Title')\n",
    "plt.xlabel('x label')\n",
    "plt.ylabel('y label')\n",
    "plt.show()"
   ]
  },
  {
   "cell_type": "markdown",
   "metadata": {},
   "source": [
    "### Tick Marks\n",
    "For this we will use numpy to set the tick marks at a particular distance.\n",
    "* We are arranging numbers from the minimum x, to the maximum x (last number is not included, so we use maximum +1) at a step of 1\n",
    "* We do the same to arrange the numbers for the y axis.\n",
    "* If you want to number from 0, change min(x) to 0 and / or min(y) to 0"
   ]
  },
  {
   "cell_type": "code",
   "execution_count": null,
   "metadata": {},
   "outputs": [],
   "source": [
    "x = [1, 2, 3]\n",
    "y = [4, 5, 6]"
   ]
  },
  {
   "cell_type": "code",
   "execution_count": null,
   "metadata": {},
   "outputs": [],
   "source": [
    "min(x)"
   ]
  },
  {
   "cell_type": "code",
   "execution_count": null,
   "metadata": {},
   "outputs": [],
   "source": [
    "max(x)"
   ]
  },
  {
   "cell_type": "code",
   "execution_count": null,
   "metadata": {},
   "outputs": [],
   "source": [
    "plt.rcParams[\"font.family\"] = \"Times New Roman\"\n",
    "plt.plot(x,y)\n",
    "plt.xticks(np.arange(min(x), max(x)+1, 1.0))\n",
    "plt.yticks(np.arange(min(y), max(y)+1, 1.0))\n",
    "plt.show()"
   ]
  },
  {
   "cell_type": "code",
   "execution_count": null,
   "metadata": {},
   "outputs": [],
   "source": [
    "plt.rcParams[\"font.family\"] = \"Times New Roman\"\n",
    "plt.plot(x,y)\n",
    "plt.xticks(np.arange(0, max(x)+1, 1.0))\n",
    "plt.yticks(np.arange(0, max(y)+1, 1.0))\n",
    "plt.show()"
   ]
  },
  {
   "cell_type": "markdown",
   "metadata": {},
   "source": [
    "### Scatterplots\n",
    "* I can make a list of some number of random numbers with numpy - These numbers will be between 0 and 1\n",
    "* I can make a scatterplot of those random numbers."
   ]
  },
  {
   "cell_type": "code",
   "execution_count": null,
   "metadata": {},
   "outputs": [],
   "source": [
    "x_scatter = np.random.rand(100)\n",
    "y_scatter = np.random.rand(100)\n",
    "plt.scatter(x_scatter, y_scatter)"
   ]
  },
  {
   "cell_type": "code",
   "execution_count": null,
   "metadata": {},
   "outputs": [],
   "source": [
    "plt.scatter(x_scatter, y_scatter, marker='p', color ='m')"
   ]
  },
  {
   "cell_type": "markdown",
   "metadata": {},
   "source": [
    "A full collection of available markers is [here](https://matplotlib.org/api/markers_api.html)  \n",
    "\n",
    "Legends get two parts to setting the location: upper, center, lower  and  left, center, right  \n",
    "The following combinations are allowed:\n",
    "*\tbest\n",
    "*\tupper right\n",
    "*\tupper left\n",
    "*\tlower left\n",
    "*\tlower right\n",
    "*\tright\n",
    "*\tcenter left\n",
    "*\tcenter right\n",
    "*\tlower center\n",
    "*\tupper center\n",
    "*\tcenter"
   ]
  },
  {
   "cell_type": "code",
   "execution_count": null,
   "metadata": {},
   "outputs": [],
   "source": [
    "x2_scatter = np.random.rand(100)\n",
    "y2_scatter = np.random.rand(100)\n",
    "\n",
    "plt.rcParams[\"font.family\"] = \"Book Antiqua\"\n",
    "plt.scatter(x_scatter, y_scatter, marker='1', color ='c', label='Set 1')\n",
    "plt.scatter(x2_scatter, y2_scatter, marker='*', color ='y', label=\"Set 2\")\n",
    "plt.xticks(np.arange(0, 1.1, 0.1))\n",
    "plt.yticks(np.arange(0, 1.1, 0.1))\n",
    "plt.xlabel('Random x')\n",
    "plt.ylabel('Random y')\n",
    "plt.title('Random Data Scatterplot')\n",
    "plt.legend(loc=\"upper left\")\n",
    "plt.savefig('Scattersave.png')"
   ]
  },
  {
   "cell_type": "markdown",
   "metadata": {},
   "source": [
    "# Explore\n",
    "* Explore the various tick mark options for scatter plots.\n",
    "* Play around with font options.\n",
    "* Play around with setting tick mark distances\n",
    "* Play around with legend location"
   ]
  },
  {
   "cell_type": "code",
   "execution_count": null,
   "metadata": {},
   "outputs": [],
   "source": [
    "# Explore here"
   ]
  },
  {
   "cell_type": "markdown",
   "metadata": {},
   "source": [
    "# You try\n",
    "* Make some mock data that you want in a scatterplot (at least ten points for each of two data sets -> 2 x lists and 2 y lists)\n",
    "* Make your favorite font, color, and tick mark combination\n",
    "* Explicitly set the tick mark distance\n",
    "* Explicitly locate the legend\n",
    "* Save the image"
   ]
  },
  {
   "cell_type": "code",
   "execution_count": null,
   "metadata": {},
   "outputs": [],
   "source": [
    "# Make your mock science experiment graph here"
   ]
  }
 ],
 "metadata": {
  "kernelspec": {
   "display_name": "Python 3",
   "language": "python",
   "name": "python3"
  },
  "language_info": {
   "codemirror_mode": {
    "name": "ipython",
    "version": 3
   },
   "file_extension": ".py",
   "mimetype": "text/x-python",
   "name": "python",
   "nbconvert_exporter": "python",
   "pygments_lexer": "ipython3",
   "version": "3.6.5"
  }
 },
 "nbformat": 4,
 "nbformat_minor": 2
}
