{
 "cells": [
  {
   "cell_type": "code",
   "execution_count": 2,
   "metadata": {},
   "outputs": [
    {
     "name": "stdout",
     "output_type": "stream",
     "text": [
      "What is your name: Santosh\n",
      "Can't convert Santosh to an integer\n",
      "This is me\n",
      "Type the name of pettable animal: dog\n",
      "Type the name of pettable animal: cat\n",
      "Type the name of pettable animal: snake\n",
      "Some people like ball pythons as pets\n",
      "Some people like gold fishs as pets\n",
      "Some people like golden retrievers as pets\n",
      "Some people like parrots as pets\n",
      "Some people like tabby cats as pets\n",
      "Some people like dogs as pets\n",
      "Some people like cats as pets\n",
      "Some people like snakes as pets\n",
      "2\n",
      "5\n",
      "8\n",
      "11\n",
      "14\n",
      "17\n",
      "20\n",
      "23\n",
      "26\n",
      "29\n"
     ]
    }
   ],
   "source": [
    "# Cheat sheet of Pythons commands you have learned so far.\n",
    "\n",
    "# variables\n",
    "name_variable = input(\"What is your name: \") # \"=\" ASSIGNS the right side of the statement to the variable named on the left side \n",
    "\n",
    "# in-built functions\n",
    "type(name_variable)  # type() finds out the type of a variable. E.g. int, str, bool\n",
    "len(name_variable) \n",
    "\n",
    "# indexing of strings and lists\n",
    "name_variable[-1]\n",
    "name_variable[-2:]\n",
    "\n",
    "# lists\n",
    "pets = []  # create an empty list\n",
    "pets = ['golden retriever', 'tabby cat']\n",
    "pets.append('gold fish')\n",
    "pets.extend(('parrot', 'ball python'))\n",
    "list.sort(pets) \n",
    "\n",
    "# random\n",
    "import random\n",
    "random.randint(1,6)\n",
    "random.sample(pets, 2)\n",
    "\n",
    "# Program flow (compound statements)\n",
    "try:\n",
    "    int(name_variable) # int() converts something of type string to type int\n",
    "except:\n",
    "    print (\"Can't convert %s to an integer\" % (name_variable)) \n",
    "\n",
    "if len(name_variable) == 0:\n",
    "        # \"==\" tests if the left and right sides of the statement are equal; read it as \"is it equal to?\"\n",
    "        # the opposite of \"==\" is \"!=\" which reads as 'is it not equal to?'\n",
    "    print(\"You did not input anything\")\n",
    "elif name_variable == \"Santosh\":\n",
    "        print('This is me')\n",
    "else:\n",
    "    print ('%s are not me' %s (name_variable))\n",
    "\n",
    "while len(pets) < 8:\n",
    "    pets.append(input('Type the name of pettable animal: '))\n",
    "    \n",
    "for pet in pets:\n",
    "    print('Some people like %ss as pets' % (pet))\n",
    "\n",
    "for x in range(2, 30, 3):\n",
    "    print(x)\n",
    "\n",
    "# user-defined functions\n",
    "def function_name (input_variable):\n",
    "    # do something here with input variable\n",
    "    print (\"something for the user\")\n",
    "    # compute the return value\n",
    "    output_variable = 101\n",
    "    return (output_variable)"
   ]
  },
  {
   "cell_type": "code",
   "execution_count": null,
   "metadata": {},
   "outputs": [],
   "source": []
  },
  {
   "cell_type": "code",
   "execution_count": null,
   "metadata": {},
   "outputs": [],
   "source": []
  }
 ],
 "metadata": {
  "kernelspec": {
   "display_name": "Python 3",
   "language": "python",
   "name": "python3"
  },
  "language_info": {
   "codemirror_mode": {
    "name": "ipython",
    "version": 3
   },
   "file_extension": ".py",
   "mimetype": "text/x-python",
   "name": "python",
   "nbconvert_exporter": "python",
   "pygments_lexer": "ipython3",
   "version": "3.6.5"
  }
 },
 "nbformat": 4,
 "nbformat_minor": 2
}
