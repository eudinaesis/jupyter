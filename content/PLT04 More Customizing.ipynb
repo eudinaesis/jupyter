{
 "cells": [
  {
   "cell_type": "markdown",
   "metadata": {},
   "source": [
    "# KWARGS\n",
    "Whenever you include something like *label='Data Set 1'*  you are using kwargs which stands for **key word arguments**.\n",
    "\n",
    "In this notebook, you are going to explore writing up graphs on your own and discovering more kwargs."
   ]
  },
  {
   "cell_type": "code",
   "execution_count": null,
   "metadata": {},
   "outputs": [],
   "source": [
    "import matplotlib.pyplot as plt\n",
    "import matplotlib.font_manager as fm\n",
    "import numpy as np"
   ]
  },
  {
   "cell_type": "markdown",
   "metadata": {},
   "source": [
    "For scatter plots, you can change the marker size using *s=*  \n",
    "You can set specific fonts for labels, axis titles, etc. using *fontname=* rather than setting the whole graph at once.  \n",
    "You can change fontsizes using *fontsize=*  \n",
    "You can bold text using *fontweight='bold'*  \n",
    "You can use */n* in a long title to split it to 2 lines so it fits.  \n",
    "You can change the size of the saved figure using *dpi=*  "
   ]
  },
  {
   "cell_type": "markdown",
   "metadata": {},
   "source": [
    "### Use the code below to explore all of these options with a scatterplot."
   ]
  },
  {
   "cell_type": "code",
   "execution_count": null,
   "metadata": {},
   "outputs": [],
   "source": [
    "x_scatter = np.random.rand(100)\n",
    "y_scatter = np.random.rand(100)\n",
    "x2_scatter = np.random.rand(100)\n",
    "y2_scatter = np.random.rand(100)\n",
    "\n",
    "plt.scatter(x_scatter, y_scatter, marker='1', color ='c', label='Set 1')\n",
    "plt.scatter(x2_scatter, y2_scatter, marker='*', color ='y', label=\"Set 2\")\n",
    "plt.xticks(np.arange(0, 1.1, 0.1))\n",
    "plt.yticks(np.arange(0, 1.1, 0.1))\n",
    "plt.xlabel('Random x')\n",
    "plt.ylabel('Random y')\n",
    "plt.title('Random Data Scatterplot')\n",
    "plt.legend(loc=\"upper left\")\n",
    "plt.tight_layout() # This line may help trim figures for better image saves\n",
    "plt.savefig('testing.png', dpi=100)"
   ]
  },
  {
   "cell_type": "markdown",
   "metadata": {},
   "source": [
    "### Make cels below and explore options in other types of graphs such as pie charts, bar graphs, and line graphs."
   ]
  },
  {
   "cell_type": "code",
   "execution_count": null,
   "metadata": {},
   "outputs": [],
   "source": []
  }
 ],
 "metadata": {
  "kernelspec": {
   "display_name": "Python 3",
   "language": "python",
   "name": "python3"
  },
  "language_info": {
   "codemirror_mode": {
    "name": "ipython",
    "version": 3
   },
   "file_extension": ".py",
   "mimetype": "text/x-python",
   "name": "python",
   "nbconvert_exporter": "python",
   "pygments_lexer": "ipython3",
   "version": "3.6.5"
  }
 },
 "nbformat": 4,
 "nbformat_minor": 2
}
