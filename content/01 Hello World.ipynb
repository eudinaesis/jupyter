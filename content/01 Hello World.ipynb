{
 "cells": [
  {
   "metadata": {
    "slideshow": {
     "slide_type": "slide"
    }
   },
   "cell_type": "markdown",
   "source": "# Welcome to Jupyter Notebooks with Python and Markdown\nThis block is written using Markdown. Notice how there are multiple slightly grayer regions? Each one is called a cell.If you double click into this cell you will see that it says **Markdown** in one of the task bar icons above. At the top right side it says **Python 3**. That tells you what language cells labeled **Code** will be run in. First lets learn a little **Markdown**   \nTo make big text, like a section heading, put a \"# \" (hash followed by space) at the start of a line.      See the first line of this cell as an example.  \nTo make bold text, use \\*\\* **Bold Text** \\*\\*  \nTeo get it to go to the next line, use two spaces before you type return.  \nTo make italic text, use \\* *italic text* \\*   \nYou can combine ***bold and italic***"
  },
  {
   "metadata": {
    "slideshow": {
     "slide_type": "slide"
    }
   },
   "cell_type": "markdown",
   "source": "* In the cell below, change the type to markdown and write \"Hello World\" as header, and in bold and italic. Click run above while in the cell to see you final text.  \n* You can experiment with more markdown using [this cheetsheet](https://guides.github.com/pdfs/markdown-cheatsheet-online.pdf). Unfortunately, GitHub Flavored Markdown won't work in Jupyter.\n\n* Keyboard shortcuts for Jupyter Notebook commands are [here](http://cs.smu.ca/~porter/csc/227/JupyterNotebookKeyboardShortcutsCommandMode.pdf)."
  },
  {
   "metadata": {
    "slideshow": {
     "slide_type": "slide"
    },
    "trusted": false
   },
   "cell_type": "code",
   "source": "Practice markdown here with \"Hello World\".\n    ",
   "execution_count": null,
   "outputs": []
  },
  {
   "metadata": {
    "slideshow": {
     "slide_type": "slide"
    }
   },
   "cell_type": "markdown",
   "source": "You can also use LaTeX commands to typeset mathematics in Markdown cells in Jupyter.\nFor example: $\\sqrt{2}$, $\\frac{2}{3}$, $x^2$  \n*Click in the cell to see how I coded that. More LaTeX math code can be found [here](https://www.colorado.edu/physics/phys4610/phys4610_sp15/PHYS4610_sp15/Home_files/LaTeXSymbols.pdf). Be sure to enclose LaTeX math in \\$ so it renders correctly.*"
  },
  {
   "metadata": {
    "slideshow": {
     "slide_type": "slide"
    }
   },
   "cell_type": "markdown",
   "source": "## Now Let's Consider Python.\nThe command for printing a line in the console is just **print(*thing to be printed here*)**  \nIf you want to print a ***string*** which is what we call words, letters, and such directly, you need to enclose it in \"\"  \nnotince that commands change color in coding cells."
  },
  {
   "metadata": {
    "slideshow": {
     "slide_type": "fragment"
    },
    "trusted": false
   },
   "cell_type": "code",
   "source": "print(\"Write a line to print 'Hello World' using Python.\")\nprint(.3-.1)",
   "execution_count": 4,
   "outputs": [
    {
     "name": "stdout",
     "output_type": "stream",
     "text": "Write a line to print 'Hello World' using Python.\n0.19999999999999998\n"
    }
   ]
  },
  {
   "metadata": {
    "trusted": false
   },
   "cell_type": "code",
   "source": "# Practice using print statements here.",
   "execution_count": null,
   "outputs": []
  },
  {
   "metadata": {
    "slideshow": {
     "slide_type": "slide"
    }
   },
   "cell_type": "markdown",
   "source": "# Let's step back a minute. We can use Python as a calculator.\n* Addition with +\n* Subtractions with -\n* Multiplication uses an *\n* Division uses a /\n* Interger division throws out the remainder //\n* To use an exponent use **\n* Modulo (remainders) use %\n\nTry it out below"
  },
  {
   "metadata": {
    "slideshow": {
     "slide_type": "subslide"
    },
    "trusted": false
   },
   "cell_type": "code",
   "source": "23**2",
   "execution_count": null,
   "outputs": []
  },
  {
   "metadata": {},
   "cell_type": "markdown",
   "source": "When you omit print statments, only the last operation occurs. Run the cell below to see this."
  },
  {
   "metadata": {
    "trusted": false
   },
   "cell_type": "code",
   "source": "45%10\n3+4",
   "execution_count": 5,
   "outputs": [
    {
     "data": {
      "text/plain": "7"
     },
     "execution_count": 5,
     "metadata": {},
     "output_type": "execute_result"
    }
   ]
  },
  {
   "metadata": {
    "trusted": false
   },
   "cell_type": "code",
   "source": "# write an addition expression here using numbers. Do not use print.",
   "execution_count": null,
   "outputs": []
  },
  {
   "metadata": {
    "trusted": false
   },
   "cell_type": "code",
   "source": "# write a subtraction expression here using numbers. Do not use print.",
   "execution_count": null,
   "outputs": []
  },
  {
   "metadata": {
    "trusted": false
   },
   "cell_type": "code",
   "source": "# write a multiplication expression here using numbers. Do not use print.",
   "execution_count": null,
   "outputs": []
  },
  {
   "metadata": {
    "trusted": false
   },
   "cell_type": "code",
   "source": "# write a division expression here using numbers. Do not use print.",
   "execution_count": null,
   "outputs": []
  },
  {
   "metadata": {
    "trusted": false
   },
   "cell_type": "code",
   "source": "# write an integer multiplication expression here using numbers. What happens to the remainder? Do not use print.",
   "execution_count": null,
   "outputs": []
  },
  {
   "metadata": {
    "trusted": false
   },
   "cell_type": "code",
   "source": "# write an modulo expression here using numbers. Do not use print.",
   "execution_count": null,
   "outputs": []
  },
  {
   "metadata": {
    "trusted": false
   },
   "cell_type": "code",
   "source": "# write an exponent expression here using numbers. Do not use print.",
   "execution_count": null,
   "outputs": []
  },
  {
   "metadata": {
    "slideshow": {
     "slide_type": "slide"
    }
   },
   "cell_type": "markdown",
   "source": "# What type is that?\n\nThe **type()** function tells the type an input or variable has. In this first lesson, we will explore integers (int), strings (str), and decimal numbers (float). Integers are just that - integer. The counting numbers, their opposites (the negative counting numbers) and zero. Any numbers that arent integers (for our present purposes - there is more to this that we will not discuss now) are floats. Float standing for **floating point** - the decimal point. Words make up strings. Strings can contain numerals as well. You need to enclose strings in single or double quotations to use them in code. Any input soliticited from a user will be a string by default in Python.  Study the code below:"
  },
  {
   "metadata": {
    "slideshow": {
     "slide_type": "subslide"
    },
    "trusted": false
   },
   "cell_type": "code",
   "source": "type(23)",
   "execution_count": null,
   "outputs": []
  },
  {
   "metadata": {
    "slideshow": {
     "slide_type": "fragment"
    },
    "trusted": false
   },
   "cell_type": "code",
   "source": "type(0.5)",
   "execution_count": null,
   "outputs": []
  },
  {
   "metadata": {
    "slideshow": {
     "slide_type": "slide"
    },
    "trusted": false
   },
   "cell_type": "code",
   "source": ".3 - .1",
   "execution_count": null,
   "outputs": []
  },
  {
   "metadata": {
    "slideshow": {
     "slide_type": "fragment"
    }
   },
   "cell_type": "markdown",
   "source": "What happened??  \n0.2 connot be properly represented in binary resulting in the **floating point error** be aware of this."
  },
  {
   "metadata": {
    "slideshow": {
     "slide_type": "slide"
    },
    "trusted": false
   },
   "cell_type": "code",
   "source": "type('23')",
   "execution_count": null,
   "outputs": []
  },
  {
   "metadata": {
    "slideshow": {
     "slide_type": "fragment"
    },
    "trusted": false
   },
   "cell_type": "code",
   "source": "type('Hello World')",
   "execution_count": null,
   "outputs": []
  },
  {
   "metadata": {
    "slideshow": {
     "slide_type": "subslide"
    },
    "trusted": false
   },
   "cell_type": "code",
   "source": "my_integer = '23'",
   "execution_count": null,
   "outputs": []
  },
  {
   "metadata": {
    "slideshow": {
     "slide_type": "fragment"
    },
    "trusted": false
   },
   "cell_type": "code",
   "source": "type(my_integer)",
   "execution_count": null,
   "outputs": []
  },
  {
   "metadata": {},
   "cell_type": "markdown",
   "source": "You should notice that the above cell reads **str** when you run it. This is because it was enclosed in quotes when it was assigned. Below, I use **int()** to reassign it to the int type."
  },
  {
   "metadata": {
    "slideshow": {
     "slide_type": "fragment"
    },
    "trusted": false
   },
   "cell_type": "code",
   "source": "my_integer = int(my_integer)\ntype(my_integer)",
   "execution_count": null,
   "outputs": []
  },
  {
   "metadata": {
    "slideshow": {
     "slide_type": "fragment"
    },
    "trusted": false
   },
   "cell_type": "code",
   "source": "name = 'Elizabeth'\ntype(name)",
   "execution_count": null,
   "outputs": []
  },
  {
   "metadata": {
    "slideshow": {
     "slide_type": "slide"
    }
   },
   "cell_type": "markdown",
   "source": "### In the next cell, explain what you know about types in Python."
  },
  {
   "metadata": {},
   "cell_type": "markdown",
   "source": "Write what you understand about types so far here."
  },
  {
   "metadata": {
    "slideshow": {
     "slide_type": "slide"
    }
   },
   "cell_type": "markdown",
   "source": "A good way to manage errors, particularly once you start taking user inputs, is to use try, except. See the example below and then write your own try, expect statement. One should give the exception and one should not."
  },
  {
   "metadata": {
    "slideshow": {
     "slide_type": "fragment"
    },
    "trusted": false
   },
   "cell_type": "code",
   "source": "try:\n    name = int(name)\nexcept:\n    print('Error')",
   "execution_count": null,
   "outputs": []
  },
  {
   "metadata": {
    "trusted": false
   },
   "cell_type": "code",
   "source": "# Write your try, except that gives the error here. Copy the format exactly, but use different indented information.",
   "execution_count": null,
   "outputs": []
  },
  {
   "metadata": {
    "trusted": false
   },
   "cell_type": "code",
   "source": "# write your try except that does not give the error here",
   "execution_count": null,
   "outputs": []
  }
 ],
 "metadata": {
  "celltoolbar": "Slideshow",
  "kernelspec": {
   "name": "python3",
   "display_name": "Python 3",
   "language": "python"
  },
  "language_info": {
   "name": "python",
   "version": "3.10.4",
   "mimetype": "text/x-python",
   "codemirror_mode": {
    "name": "ipython",
    "version": 3
   },
   "pygments_lexer": "ipython3",
   "nbconvert_exporter": "python",
   "file_extension": ".py"
  }
 },
 "nbformat": 4,
 "nbformat_minor": 2
}