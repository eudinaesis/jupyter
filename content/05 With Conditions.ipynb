{
 "cells": [
  {
   "cell_type": "markdown",
   "metadata": {},
   "source": [
    "# With Conditions\n",
    "In this notebook you will learn about\n",
    "1. Importing libraries\n",
    "* the randint function\n",
    "* Else\n",
    "* Code flow when you have an if, else\n",
    "* More than two possibilities (positive, negative, zero): elif\n",
    "* Remember that else is everything else!\n"
   ]
  },
  {
   "cell_type": "markdown",
   "metadata": {},
   "source": [
    "So far we have been introduced briefly to if statements, but we haven't had a way to split two things with an if statement. Suppose I am interested in whether a random number is even or odd. First I need a way to geerate a random number. I can do this with a **library** which I can **import**\n",
    "\n",
    "As goiod practice, put all you library imports in the **first code cell** of each notebook.  If you add new libraries, you will need to rerun the cell to get them imported. Keeping all library imports there keeps your notebook less cluttered as you avoid reimporting the same library repeatedly."
   ]
  },
  {
   "cell_type": "code",
   "execution_count": null,
   "metadata": {},
   "outputs": [],
   "source": [
    "import random"
   ]
  },
  {
   "cell_type": "markdown",
   "metadata": {},
   "source": [
    "Now I can simulate the roll of a six-sided die."
   ]
  },
  {
   "cell_type": "code",
   "execution_count": null,
   "metadata": {},
   "outputs": [],
   "source": [
    "random.randint(1,6)"
   ]
  },
  {
   "cell_type": "markdown",
   "metadata": {},
   "source": [
    "Now suppose that I want to determine whether the roll was odd or even and print out the answer. With what we have so far, I would need to use two if statements. However, numbers are either even or odd, so if they aren't even, then they **must** be odd. I can use else for this.\n",
    "\n",
    "Study the code below."
   ]
  },
  {
   "cell_type": "code",
   "execution_count": null,
   "metadata": {},
   "outputs": [],
   "source": [
    "my_roll = random.randint(1,6)\n",
    "if my_roll % 2 == 0:\n",
    "    print('You rolled an even number.')\n",
    "else:\n",
    "    print('You rolled an odd number.')"
   ]
  },
  {
   "cell_type": "markdown",
   "metadata": {},
   "source": [
    "Assign a varaible to the roll of a **12**-sided die. Use if and else to print out whether or not the roll is a **multiple of 3**."
   ]
  },
  {
   "cell_type": "code",
   "execution_count": null,
   "metadata": {},
   "outputs": [],
   "source": [
    "# Here assign a variable to the roll of a twelve-sided die and print out whether or not your roll is a multiple of three."
   ]
  },
  {
   "cell_type": "markdown",
   "metadata": {},
   "source": [
    "Now suppose that I have a list and want to select something from the list. I have method in the random library for this as well."
   ]
  },
  {
   "cell_type": "code",
   "execution_count": null,
   "metadata": {},
   "outputs": [],
   "source": [
    "animals = ['bear', 'python', 'falcon']"
   ]
  },
  {
   "cell_type": "code",
   "execution_count": null,
   "metadata": {},
   "outputs": [],
   "source": [
    "random.sample(animals, 1)"
   ]
  },
  {
   "cell_type": "markdown",
   "metadata": {},
   "source": [
    "The above code gave me **1** random object from my list, **animals**. Below, write code to give two things from the list."
   ]
  },
  {
   "cell_type": "code",
   "execution_count": null,
   "metadata": {},
   "outputs": [],
   "source": [
    "# Write code that randomly selects two items from the list here."
   ]
  },
  {
   "cell_type": "markdown",
   "metadata": {},
   "source": [
    "Important note, because it could include multiple things, thet **type** of your sample will still be list. You may have noticed that the output was included in brackets. That is why.\n",
    "\n",
    "This becomes important when doing comparisons. You will need to pull out the string using it's index."
   ]
  },
  {
   "cell_type": "markdown",
   "metadata": {},
   "source": [
    "Now suppose that I want to print out whether the random sample of 1 is a mammal, reptile, or bird.  A simple if, else won;t work for this because else is everything else. So I want to use a combination of else and if. That is elif.  See below."
   ]
  },
  {
   "cell_type": "code",
   "execution_count": null,
   "metadata": {},
   "outputs": [],
   "source": [
    "animal = random.sample(animals, 1)\n",
    "if animal[0] == 'bear':\n",
    "    print('You selected a mammal.')\n",
    "elif animal[0] == 'python':\n",
    "    print('You selected a reptile.')\n",
    "else:\n",
    "    print('You selected a bird.')"
   ]
  },
  {
   "cell_type": "markdown",
   "metadata": {},
   "source": [
    "What if my list were longer? How could I check more things?"
   ]
  },
  {
   "cell_type": "code",
   "execution_count": null,
   "metadata": {},
   "outputs": [],
   "source": [
    "animals.append('ant')"
   ]
  },
  {
   "cell_type": "code",
   "execution_count": null,
   "metadata": {},
   "outputs": [],
   "source": [
    "animal = random.sample(animals, 1)\n",
    "if animal[0] == 'bear':\n",
    "    print('You selected a mammal.')\n",
    "elif animal[0] == 'python':\n",
    "    print('You selected a reptile.')\n",
    "elif animal[0] == 'ant':\n",
    "    print('You selected an insect.')\n",
    "else:\n",
    "    print('You selected a bird.')"
   ]
  },
  {
   "cell_type": "markdown",
   "metadata": {},
   "source": [
    "I am going to add a second animal of each kind to the list. For this I will use **extend**."
   ]
  },
  {
   "cell_type": "code",
   "execution_count": null,
   "metadata": {},
   "outputs": [],
   "source": [
    "animals.extend(('aardvark', 'bearded dragon', 'butterfly', 'finch'))\n",
    "animals"
   ]
  },
  {
   "cell_type": "markdown",
   "metadata": {},
   "source": [
    "Now I can use or to exend my conditional statements. Study the code below."
   ]
  },
  {
   "cell_type": "code",
   "execution_count": null,
   "metadata": {},
   "outputs": [],
   "source": [
    "animal = random.sample(animals, 1)\n",
    "if animal[0] == 'bear' or animal[0] == 'aardvark':\n",
    "    print('You selected a mammal.')\n",
    "elif animal[0] == 'python' or animal[0] == 'bearded dragon':\n",
    "    print('You selected a reptile.')\n",
    "elif animal[0] == 'ant' or animal[0] == 'butterfly':\n",
    "    print('You selected an insect.')\n",
    "else:\n",
    "    print('You selected a bird.')"
   ]
  },
  {
   "cell_type": "markdown",
   "metadata": {},
   "source": [
    "Notice how the code flows in the block above.\n",
    "\n",
    "1. If the if statement evaluates to **True** it prints that the animal is a mammal and stops. (It would do whatever is next with no ident after the else statement next.)\n",
    "* If the if statement evaulates to **False** then it goes to the first elif.\n",
    "* If that is **True** then it prints that the animal is a reptile and stops.\n",
    "* If that is **False** then it goes to the next elif.\n",
    "* This continues. If all of the elifs are false then it does what follows else. Else is everything else. There is no more splitting after that for this block of conditional code."
   ]
  },
  {
   "cell_type": "markdown",
   "metadata": {},
   "source": [
    "### Exercise 1\n",
    "Write a 21 sided die that goes from -10 to 10 and prints where the output is poitive, negative, or zero using if, elif, and else."
   ]
  },
  {
   "cell_type": "code",
   "execution_count": null,
   "metadata": {},
   "outputs": [],
   "source": [
    "# write your code here"
   ]
  },
  {
   "cell_type": "markdown",
   "metadata": {},
   "source": [
    "### Exercise 2\n",
    "1. Make a list that you can sort into three types of things. Start with one of each type.\n",
    "* Extend your list using extend so that you have two of each type.. (Notice the double parenthesis for this method!)\n",
    "* Sample your list to a variable.\n",
    "* Write a conditonal block using if, elif, else, and or that tells you what type was sampled."
   ]
  },
  {
   "cell_type": "code",
   "execution_count": null,
   "metadata": {},
   "outputs": [],
   "source": [
    "# Write your code here."
   ]
  }
 ],
 "metadata": {
  "kernelspec": {
   "display_name": "Python 3",
   "language": "python",
   "name": "python3"
  },
  "language_info": {
   "codemirror_mode": {
    "name": "ipython",
    "version": 3
   },
   "file_extension": ".py",
   "mimetype": "text/x-python",
   "name": "python",
   "nbconvert_exporter": "python",
   "pygments_lexer": "ipython3",
   "version": "3.6.5"
  }
 },
 "nbformat": 4,
 "nbformat_minor": 2
}
