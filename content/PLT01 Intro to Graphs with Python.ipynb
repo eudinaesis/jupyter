{
 "cells": [
  {
   "cell_type": "markdown",
   "metadata": {},
   "source": [
    "# Making Scalable Graphs with Python\n",
    "* Importing the MatPlotLib PyPlot tools as plt\n",
    "* Inline graph display vs saving a graph\n",
    "* Your created graph will in in the same directory as the notebook that you created it in\n",
    "* Each time you run the creation cell, you will overwrite the save file\n",
    "* Basic line graphs, titles, and axis labels\n"
   ]
  },
  {
   "cell_type": "code",
   "execution_count": null,
   "metadata": {},
   "outputs": [],
   "source": [
    "import matplotlib.pyplot as plt"
   ]
  },
  {
   "cell_type": "markdown",
   "metadata": {},
   "source": [
    "By using the **as** command, we can now call the tools from **matplotlib.plyplot** using plt.*tool*  \n",
    "For example to graph x -coordinates (1, 2, 3, 4, 5) with y-coordinates (6, 7, 8, 9, 10) which gives the points (1, 6), (2, 7), (3, 8), (4, 9), and (5, 10) I would do the following:"
   ]
  },
  {
   "cell_type": "code",
   "execution_count": null,
   "metadata": {},
   "outputs": [],
   "source": [
    "plt.plot([1,2,3,4,5], [6, 7,8, 9, 3])\n",
    "plt.show()"
   ]
  },
  {
   "cell_type": "markdown",
   "metadata": {},
   "source": [
    "### You try:\n",
    "Plot the points (1, 2), (3, 4), (5, 6), (7, 1), (8, 9) in the cell below"
   ]
  },
  {
   "cell_type": "code",
   "execution_count": null,
   "metadata": {},
   "outputs": [],
   "source": [
    "# Write the code to plot the points given in the cell above here"
   ]
  },
  {
   "cell_type": "markdown",
   "metadata": {},
   "source": [
    "I can create my x points and y points as separate lists rather than include them in the plot command.\n",
    "I can also use simple commands to label the axis and title the graph. Study the examples below to see how this works."
   ]
  },
  {
   "cell_type": "code",
   "execution_count": null,
   "metadata": {},
   "outputs": [],
   "source": [
    "x = [1,2,3,4,5]\n",
    "y = [5,7,4,8,6]\n",
    "plt.plot(x, y)\n",
    "plt.xlabel('x Axis Label Example')\n",
    "plt.ylabel(\"y Axis Label Example\")\n",
    "plt.title('Graph Title Example')\n",
    "plt.show()"
   ]
  },
  {
   "cell_type": "markdown",
   "metadata": {},
   "source": [
    "### You try:\n",
    "* Make a list of x coordinates and a list of y coordinates (different from the lists above)\n",
    "* Use the plot command with those lists\n",
    "* Create labels for each axis and a title for the graph\n",
    "* use the show command to display your labeled graph"
   ]
  },
  {
   "cell_type": "code",
   "execution_count": null,
   "metadata": {},
   "outputs": [],
   "source": [
    "# Create your labeled graph according to the directions above here"
   ]
  },
  {
   "cell_type": "markdown",
   "metadata": {},
   "source": [
    "You may want multiple lines and a legend. Study the code below:"
   ]
  },
  {
   "cell_type": "code",
   "execution_count": null,
   "metadata": {},
   "outputs": [],
   "source": [
    "x = [1,2,3,4,5]\n",
    "y = [4,6,5,7,3]\n",
    "y2 = [6,2,4,5,1]\n",
    "plt.plot(x, y, label='First Line')\n",
    "plt.plot(x, y2, label='Second Line')\n",
    "plt.xlabel('X Label')\n",
    "plt.ylabel(\"Y Label\")\n",
    "plt.title('Multiple Lines and Legends Example')\n",
    "plt.legend()\n",
    "plt.savefig(\"plt01example.png\") # this line saves this as a PNG file. You can p[review this from the jupyter file manager\n",
    "plt.savefig(\"plt01example.svg\") # This saves the figure as an SVG. This format won't pixelate when enlarged.\n",
    "plt.show()"
   ]
  },
  {
   "cell_type": "markdown",
   "metadata": {},
   "source": [
    "For your science project graphs, you probably want to save the graph as an svg (scalable vector graphics) file. You can do that as shown below. Note how you can name the file and how you can change the type you save it as. PNG and PDF are also possible save types. See above for saving as PNG and SVG. Matplotlib figures out the format based on your filename extensions. You must save the figure befopre showing it, but after defining all of the parts you want."
   ]
  },
  {
   "cell_type": "markdown",
   "metadata": {},
   "source": [
    "Imagine you were measuring plant growth under bright and low light conditions over 5 weeks. \n",
    "* Make a list for the x axis consisting of the numbers zero through five for start (zerop) and each following week\n",
    "* Make two lists of y coordinates representing height in inches over the weeks, one each for your high and low light conditions. \n",
    "* Plot each line with a label based ont he light condition it represents.\n",
    "* Label the x axis \"Week\"\n",
    "* Label the y axis \"Height in inches\"\n",
    "* Title the graph appropriately for the experiment.\n",
    "* Save your graph in both png and svg formats with files named \"experiment.png\" and \"experiment.svg\"\n",
    "* Display your graph\n",
    "* When finished upload your notebook and both graphs."
   ]
  },
  {
   "cell_type": "code",
   "execution_count": null,
   "metadata": {},
   "outputs": [],
   "source": []
  }
 ],
 "metadata": {
  "kernelspec": {
   "display_name": "Python 3",
   "language": "python",
   "name": "python3"
  },
  "language_info": {
   "codemirror_mode": {
    "name": "ipython",
    "version": 3
   },
   "file_extension": ".py",
   "mimetype": "text/x-python",
   "name": "python",
   "nbconvert_exporter": "python",
   "pygments_lexer": "ipython3",
   "version": "3.6.5"
  }
 },
 "nbformat": 4,
 "nbformat_minor": 2
}
