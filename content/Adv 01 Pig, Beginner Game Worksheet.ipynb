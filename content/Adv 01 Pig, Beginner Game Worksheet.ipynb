{
 "cells": [
  {
   "cell_type": "markdown",
   "metadata": {},
   "source": [
    "# PIG, Beginner’s Version:  \n",
    "* Players take turns rolling a die as many times as they like. \n",
    "* If a roll is a 2, 3, 4, 5, or 6, the player adds that many points to their score for the turn. \n",
    "* A player may choose to end their turn at any time and “bank” their points. \n",
    "* If a player rolls a 1, they lose all their unbanked points and their turn is over. \n",
    "* The first player to score 100 or more points wins.\n",
    "\n",
    "Note: **Do not put more than one funtion in any given cell**\n",
    "Also: **Test each function in the cell directly beolow the one in which it is created.**\n",
    "If you put your work in the cells that ask for each thing, you will accomplish the above directions."
   ]
  },
  {
   "cell_type": "markdown",
   "metadata": {},
   "source": [
    "---\n",
    "First, let's import the random library for dice rolls and Counter to test our code as we go."
   ]
  },
  {
   "cell_type": "code",
   "execution_count": null,
   "metadata": {},
   "outputs": [],
   "source": [
    "import random\n",
    "from collections import Counter"
   ]
  },
  {
   "cell_type": "markdown",
   "metadata": {},
   "source": [
    "Next, let's think about the game as shells of things. The smallest piece is rolling a die, so let's make a helper function for that."
   ]
  },
  {
   "cell_type": "code",
   "execution_count": null,
   "metadata": {},
   "outputs": [],
   "source": [
    "# Write your helper function here."
   ]
  },
  {
   "cell_type": "markdown",
   "metadata": {},
   "source": [
    "Each time we write a function, we want to test it. We will use the Counter to test functions over 1000 trials. For some functions we will need to test multiple scenarios, but for rolling the die, just one test should be sufficient. See the **code block** below for how I did this unit test. This may help you see how to use the counter function.  \n",
    "\n",
    "For help with lists and appending to lists see the basic notebooks.\n",
    "\n",
    "Code blocks display formated code in Markdown."
   ]
  },
  {
   "cell_type": "markdown",
   "metadata": {},
   "source": [
    "~~~\n",
    "rolls = []\n",
    "for i in range(1000):\n",
    "    rolls.append(roll_die())\n",
    "Counter(rolls)\n",
    "~~~"
   ]
  },
  {
   "cell_type": "code",
   "execution_count": null,
   "metadata": {},
   "outputs": [],
   "source": [
    "# Write your test here. Use a thousand rolls to test whether your distribution of rolls makes sense. "
   ]
  },
  {
   "cell_type": "markdown",
   "metadata": {},
   "source": [
    "If your test shows results that you would expect, then go on to the next part. If your results suggest something isn't behaving the way you expected, go back and check over your code carefully."
   ]
  },
  {
   "cell_type": "markdown",
   "metadata": {},
   "source": [
    "Rolling the die is part of taking a turn, in which we may roll once, or many times. We will need to have human played turns and computer simulated turns.  In addition, we will need to select a strategy for computer simulated turns.  \n",
    "There are three common strategies:\n",
    "* Roll up to a specific value and then stop.\n",
    "* Roll a certain number of times and then stop.\n",
    "* Roll until your total will beat your opponents’ and then stop.  \n",
    "The strategy that you choose for your computer simulation will dictate how you write that helper function. If you choose a specific value or number of rolls strategy, then you can set that as an argument passed into the function.\n",
    "\n",
    "Your function should return the points earned this turn, either the sum of rolls or zero if a one was rolled. (You can end the turn by returning zero!)\n",
    "\n",
    "***In the cells below, tell me what strategy you are going to use on your initial write of this."
   ]
  },
  {
   "cell_type": "markdown",
   "metadata": {},
   "source": [
    "**The strategy for this computer simulation is:**"
   ]
  },
  {
   "cell_type": "code",
   "execution_count": null,
   "metadata": {},
   "outputs": [],
   "source": [
    "# write a function for your computer turn. This is just a single turn played by the computer.\n",
    "# Be sure to let the player know what is happening with print statements. PLayers want to see rolls!"
   ]
  },
  {
   "cell_type": "markdown",
   "metadata": {},
   "source": [
    "Be sure to test your function. You may need to test it with different values to be sure that it always works! Some strategies may require you to pass values to your function. For these you may want to add cells and test multiple scenarios. "
   ]
  },
  {
   "cell_type": "code",
   "execution_count": null,
   "metadata": {},
   "outputs": [],
   "source": [
    "# write code to test you player turns here. Simulate a thousand turns and see the distribution of results with a Counter."
   ]
  },
  {
   "cell_type": "markdown",
   "metadata": {},
   "source": [
    "Again, do not go forward until you are sure that this function is behaving as you would expect."
   ]
  },
  {
   "cell_type": "markdown",
   "metadata": {},
   "source": [
    "Next, we need to write a function to allow the human player to play a turn. This time it needs to let the human player know the value of each roll and ask if the player wishes to roll again as long as a one has not been rolled. This function should take the players name as an argument and return the players score for the turn."
   ]
  },
  {
   "cell_type": "code",
   "execution_count": null,
   "metadata": {},
   "outputs": [],
   "source": [
    "# write a player turn function that takes the players name as an argument and returns the players score\n",
    "# be sure that your player can;t roll again if a one is rolled\n",
    "# be sure to have a default response if teh player hits enter without typing to the roll again? prompt"
   ]
  },
  {
   "cell_type": "markdown",
   "metadata": {},
   "source": [
    "Test your player turn below. You can;t run this 1000 ties as it takes player input, but make sure that it doesn't get errors no matter what your players enters at the prompt and gives your player lots of information."
   ]
  },
  {
   "cell_type": "code",
   "execution_count": null,
   "metadata": {},
   "outputs": [],
   "source": [
    "# test your player turn here"
   ]
  },
  {
   "cell_type": "markdown",
   "metadata": {},
   "source": [
    "Now we need to assemble the game. It's a good idea to make the points to play to default to 100, but be an argument that you can set. After each turn, it should report the current scores. We may need to go back and make the computer turns stop rolling if the computer wins the game.  This may require passing more arguments to those functions. Then, the simulated turn will need to take the current score as an argument."
   ]
  },
  {
   "cell_type": "code",
   "execution_count": null,
   "metadata": {},
   "outputs": [],
   "source": []
  },
  {
   "cell_type": "code",
   "execution_count": null,
   "metadata": {},
   "outputs": [],
   "source": [
    "# write your final game function here and test it"
   ]
  },
  {
   "cell_type": "markdown",
   "metadata": {},
   "source": [
    "Once your version of the game works, consider whether it provides enough information to the human player. Let your human keep track of their total within turn themselves, but provide them end of turn summaries that them keep track of the game total scores. Is there any other information you want from the game?\n",
    "\n",
    "Add in an option to provide rules for the game to the start of your game function."
   ]
  },
  {
   "cell_type": "code",
   "execution_count": null,
   "metadata": {},
   "outputs": [],
   "source": []
  },
  {
   "cell_type": "markdown",
   "metadata": {},
   "source": [
    "Once you have a working version of the game that gives plenty of information to the human player, consider the following extension possibilities.\n",
    "* make computer players for other strategies\n",
    "* set up a helper function that plays the computer turn based on a strategy passed to it (think about what other arguments this function will need to take so that it can pass them to the computer player functions) and modify your game to use this function for the computer turn\n",
    "* make a \"chaos\" option for your computer player helper function that chooses a random function and sets random values for value based and number of rolls based strategies.\n",
    "* think about what you could keep and what would need to change to make an advanced, two dice version of the game (The Advanced Game Worksheet with rules and some step by step function layout is available for this.)"
   ]
  },
  {
   "cell_type": "code",
   "execution_count": null,
   "metadata": {},
   "outputs": [],
   "source": []
  }
 ],
 "metadata": {
  "kernelspec": {
   "display_name": "Python 3",
   "language": "python",
   "name": "python3"
  },
  "language_info": {
   "codemirror_mode": {
    "name": "ipython",
    "version": 3
   },
   "file_extension": ".py",
   "mimetype": "text/x-python",
   "name": "python",
   "nbconvert_exporter": "python",
   "pygments_lexer": "ipython3",
   "version": "3.6.5"
  }
 },
 "nbformat": 4,
 "nbformat_minor": 2
}
