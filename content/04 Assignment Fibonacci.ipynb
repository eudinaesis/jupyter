{
 "cells": [
  {
   "cell_type": "markdown",
   "metadata": {},
   "source": [
    "# Assignment Fibonacci\n",
    "#### In this notebook we will do something until a condition is met. Later we will do something a set number of times or for each item in a list."
   ]
  },
  {
   "cell_type": "markdown",
   "metadata": {},
   "source": [
    "Before we go on, we need to consider while loops. You could turn these into forever loops by setting the condition to True but this could just crash your computer at worst, and at best will require you to restart the kernal for this notebook, so please don't try this during class. (That sort of thing is dont to run bots on discussion websotes and game servers, but is not good in general in Jupyter notebooks.)\n",
    "\n",
    "We can, however, also use it to contune doing some process as long as some condition remains true. For example, suppose that I was to find the positive even numbers less than 21. I can do this as follows:"
   ]
  },
  {
   "cell_type": "code",
   "execution_count": null,
   "metadata": {},
   "outputs": [],
   "source": [
    "even_numbers = [] # I have to create an empty list before I can append things to it\n",
    "number = 2\n",
    "while number < 21:\n",
    "    even_numbers.append(number)\n",
    "    number += 2\n",
    "    \n",
    "even_numbers"
   ]
  },
  {
   "cell_type": "markdown",
   "metadata": {},
   "source": [
    "Suppose I have a sequence of numbers 1, 2, 4, 8, 16, 32, ...  \n",
    "What is the next number in this sequence?  \n",
    "How do you know?\n",
    "One way that I can get the numbers in this sequence is by multiplying the last number by 2."
   ]
  },
  {
   "cell_type": "markdown",
   "metadata": {},
   "source": [
    "Notice that I used += to add two rather than  \n",
    "~~~\n",
    "number = number + 2\n",
    "~~~\n",
    "This is a little faster to type and just as easy to read."
   ]
  },
  {
   "cell_type": "code",
   "execution_count": null,
   "metadata": {},
   "outputs": [],
   "source": [
    "doubling_numbers=[]\n",
    "number = 1\n",
    "while number <= 100:\n",
    "    number = number * 2\n",
    "    doubling_numbers.append(number)\n",
    "    \n",
    "\n",
    "print(doubling_numbers)"
   ]
  },
  {
   "cell_type": "markdown",
   "metadata": {},
   "source": [
    "**Why does that code print one number greater than 100?**  \n",
    "In the cell below rewrite the code so that it doesn't print any numbers larger than the number listed as <=   \n",
    "\n",
    "Hint: just change the order of some lines. Computers run code line by line in order."
   ]
  },
  {
   "cell_type": "code",
   "execution_count": null,
   "metadata": {},
   "outputs": [],
   "source": [
    "# write the new function here"
   ]
  },
  {
   "cell_type": "markdown",
   "metadata": {},
   "source": [
    "### Exercise: Fibonacci Numbers\n",
    "\n",
    "Let's consider how the Fibonacci sequence works.\n",
    "\n",
    "We start with two numbers, which I am going to call **fib1** and **fib2** both set equal to 1. To assign variables in Python we use an equals sign: \n",
    "fib1 = 1\n",
    "fib2 = 1\n",
    "\n",
    "I can shorten this up to one line by using commas:  \n",
    "fib1, fib2 = 1, 1"
   ]
  },
  {
   "cell_type": "code",
   "execution_count": null,
   "metadata": {},
   "outputs": [],
   "source": [
    "# use a while loop to list the fibonacci numbers less than 100. Collect them in a list and print the list."
   ]
  },
  {
   "cell_type": "markdown",
   "metadata": {
    "collapsed": true
   },
   "source": [
    "### Exercise: List the triangular numbers less than or equal to 100.\n",
    "Triangular numbers: (1, 3, 6, 10, 15, etc.) obtained by continued summation of the natural numbers 1, 2, 3, 4, 5, etc.  \n",
    "That is: 1, 1+2, 1+2+3, etc...\n",
    "\n",
    "Collect your numbers in a list and then print the list."
   ]
  },
  {
   "cell_type": "code",
   "execution_count": null,
   "metadata": {},
   "outputs": [],
   "source": [
    "# Write your code here"
   ]
  }
 ],
 "metadata": {
  "kernelspec": {
   "display_name": "Python 3",
   "language": "python",
   "name": "python3"
  },
  "language_info": {
   "codemirror_mode": {
    "name": "ipython",
    "version": 3
   },
   "file_extension": ".py",
   "mimetype": "text/x-python",
   "name": "python",
   "nbconvert_exporter": "python",
   "pygments_lexer": "ipython3",
   "version": "3.6.5"
  }
 },
 "nbformat": 4,
 "nbformat_minor": 2
}
