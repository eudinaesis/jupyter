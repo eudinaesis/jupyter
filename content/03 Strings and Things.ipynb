{
 "cells": [
  {
   "metadata": {},
   "cell_type": "markdown",
   "source": "# Strings and Things\nIn this notebook, you will learn about:\n* string slicing, len()\n* Is it a palindrome? exercise\n* list introduction, including type\n* ordering and appending things to a list\n* iterate through a list with a for loop\n* Computers execute code line by line. What happens if we try to assign the variable *after* we try to print it? (Discussion of notebooks and running cells in order - kernal Restart and Clear All / Run All"
  },
  {
   "metadata": {},
   "cell_type": "markdown",
   "source": "Suppose I want to know how long my string is.  Then I can use the len() command."
  },
  {
   "metadata": {
    "trusted": false
   },
   "cell_type": "code",
   "source": "my_school = 'The Evergreen School'\nlen(my_school)",
   "execution_count": null,
   "outputs": []
  },
  {
   "metadata": {
    "trusted": false
   },
   "cell_type": "code",
   "source": "# Your turn. Assign a string to a variable and find it's length using len() in this cell.",
   "execution_count": null,
   "outputs": []
  },
  {
   "metadata": {},
   "cell_type": "markdown",
   "source": "Suppose I want to find a specific letter within my string.\n\nComputers index, that is start counting, from 0 rather than 1. Every character in a string can be called up by its index (number) using brackets. Consider the following:"
  },
  {
   "metadata": {
    "trusted": false
   },
   "cell_type": "code",
   "source": "my_school[0]",
   "execution_count": null,
   "outputs": []
  },
  {
   "metadata": {},
   "cell_type": "markdown",
   "source": "When you ran the above code, you should get the first letter. How would you get the second letter?"
  },
  {
   "metadata": {
    "trusted": false
   },
   "cell_type": "code",
   "source": "# write your code that ouputs the second letter here",
   "execution_count": null,
   "outputs": []
  },
  {
   "metadata": {},
   "cell_type": "markdown",
   "source": "Suppose I want to know the last letter in a string. Then I can use this:"
  },
  {
   "metadata": {
    "trusted": false
   },
   "cell_type": "code",
   "source": "my_school[-1]",
   "execution_count": null,
   "outputs": []
  },
  {
   "metadata": {
    "trusted": false
   },
   "cell_type": "code",
   "source": "my_school[-2]",
   "execution_count": null,
   "outputs": []
  },
  {
   "metadata": {
    "trusted": false
   },
   "cell_type": "code",
   "source": "# Write code to find the third from the last letter here.",
   "execution_count": null,
   "outputs": []
  },
  {
   "metadata": {},
   "cell_type": "markdown",
   "source": "Next we are going to write some code to check if a word is a Palindrome. We will do this in a few steps. First, input a word from a user and assign it to a variable. In your prompt, ask that the word be at least three characters and not more than 7 characters long."
  },
  {
   "metadata": {
    "trusted": false
   },
   "cell_type": "code",
   "source": "# Write code to prompt the user for a word here and assign it to the variable.",
   "execution_count": null,
   "outputs": []
  },
  {
   "metadata": {},
   "cell_type": "markdown",
   "source": "Next, check how long the input word is."
  },
  {
   "metadata": {
    "trusted": false
   },
   "cell_type": "code",
   "source": "# Write code checking the length of the word here.",
   "execution_count": null,
   "outputs": []
  },
  {
   "metadata": {},
   "cell_type": "markdown",
   "source": "Now write a conditional statement (if statement) that asks for a new word assigned to the same variable if the word is more than 7 letters long.  Remember to end you if statement by a colon. If you do not remember how to use if statement please review the previous notebook. "
  },
  {
   "metadata": {
    "trusted": false
   },
   "cell_type": "code",
   "source": "# Write your if statement here. Check if it is more than 7 letters long. If that is true, ask for a new word.",
   "execution_count": null,
   "outputs": []
  },
  {
   "metadata": {
    "trusted": false
   },
   "cell_type": "code",
   "source": "# Here write and if statement that asks for a new word if the word is fewer than 3 letters long.",
   "execution_count": null,
   "outputs": []
  },
  {
   "metadata": {},
   "cell_type": "markdown",
   "source": "Now we are ready to check to see if the word is a palandrome. A palindrome is a word that is the same forwards and backwards. To do this you will need to nest if statements. Nesting means putting one inside of another. Start by checking to see if the first letter is equivalnet to the last letter. Once you have checked the first three agains the last three your code.  \n\nYour code should print something saying that the word is a palindrome if it is one and nothing if it is not a palindrome."
  },
  {
   "metadata": {
    "trusted": false
   },
   "cell_type": "code",
   "source": "# write your palindrome checker here",
   "execution_count": null,
   "outputs": []
  },
  {
   "metadata": {},
   "cell_type": "markdown",
   "source": "What if I want a slice of a string? Perhaps the first 7 letters? Then I can put a colon between the index for the first and the index for the last character I want as below. Notice that the end point is not included in the slice."
  },
  {
   "metadata": {
    "trusted": false
   },
   "cell_type": "code",
   "source": "my_school[0:7]",
   "execution_count": null,
   "outputs": []
  },
  {
   "metadata": {},
   "cell_type": "markdown",
   "source": "You could simplify this first slice by leaving the beginning blank."
  },
  {
   "metadata": {
    "trusted": false
   },
   "cell_type": "code",
   "source": "my_school[:7]",
   "execution_count": null,
   "outputs": []
  },
  {
   "metadata": {},
   "cell_type": "markdown",
   "source": "In order to get the last letter included in a slice, I would need to leave the end blank as the last character is not included in the slice.\n"
  },
  {
   "metadata": {
    "trusted": false
   },
   "cell_type": "code",
   "source": "# write code to grab the last seven characters here - instead of indexing to -1, leave the end blank",
   "execution_count": null,
   "outputs": []
  },
  {
   "metadata": {},
   "cell_type": "markdown",
   "source": "What if I want a collection of words rather than just one? Then I can make a list. I assign a list by putting things in it separated by commas. Each string still needs to be encased in single or double quotation marks. See below:"
  },
  {
   "metadata": {
    "trusted": false
   },
   "cell_type": "code",
   "source": "pets = ['golden retriever', 'tabby cat', 'parrot', 'ball python']\npets\n",
   "execution_count": null,
   "outputs": []
  },
  {
   "metadata": {
    "trusted": false
   },
   "cell_type": "code",
   "source": "type(pets)",
   "execution_count": null,
   "outputs": []
  },
  {
   "metadata": {},
   "cell_type": "markdown",
   "source": "I can use index to pull out items in a list just as I did with strings."
  },
  {
   "metadata": {
    "trusted": false
   },
   "cell_type": "code",
   "source": "pets[1]",
   "execution_count": null,
   "outputs": []
  },
  {
   "metadata": {
    "trusted": false
   },
   "cell_type": "code",
   "source": "# pull out the first element of the list and output it here",
   "execution_count": null,
   "outputs": []
  },
  {
   "metadata": {
    "trusted": false
   },
   "cell_type": "code",
   "source": "# pull out the last two things in the list and output them here",
   "execution_count": null,
   "outputs": []
  },
  {
   "metadata": {},
   "cell_type": "markdown",
   "source": "What if I want to put my list into alphabetical order? Then I can use a **method** that is built in. "
  },
  {
   "metadata": {
    "trusted": false
   },
   "cell_type": "code",
   "source": "list.sort(pets)\npets",
   "execution_count": null,
   "outputs": []
  },
  {
   "metadata": {},
   "cell_type": "markdown",
   "source": "Notice that my list is now permanently in a different order."
  },
  {
   "metadata": {
    "trusted": false
   },
   "cell_type": "code",
   "source": "list.sort(pets)\npets",
   "execution_count": null,
   "outputs": []
  },
  {
   "metadata": {
    "trusted": false
   },
   "cell_type": "code",
   "source": "# Pull out the first item in this newly sorted list here.",
   "execution_count": null,
   "outputs": []
  },
  {
   "metadata": {},
   "cell_type": "markdown",
   "source": "If I want to add something to a list, then I can use the append method. This time I start with the name of this list. Study the code below."
  },
  {
   "metadata": {
    "trusted": false
   },
   "cell_type": "code",
   "source": "pets.append('poodle')\npets",
   "execution_count": null,
   "outputs": []
  },
  {
   "metadata": {
    "trusted": false
   },
   "cell_type": "code",
   "source": "# You add something to the list here",
   "execution_count": null,
   "outputs": []
  },
  {
   "metadata": {},
   "cell_type": "markdown",
   "source": "What if I want to go through this list and say each one is a good pet? Computers can do this easily with a for statement."
  },
  {
   "metadata": {
    "trusted": false
   },
   "cell_type": "code",
   "source": "for pet in pets:\n    print('A %s is a good pet' % (pet))",
   "execution_count": null,
   "outputs": []
  },
  {
   "metadata": {},
   "cell_type": "markdown",
   "source": "I can check how long my list is by using the len() function"
  },
  {
   "metadata": {
    "trusted": false
   },
   "cell_type": "code",
   "source": "len(pets)",
   "execution_count": null,
   "outputs": []
  },
  {
   "metadata": {
    "trusted": false
   },
   "cell_type": "code",
   "source": "# set up your own list of things here (include at least three things to start)",
   "execution_count": null,
   "outputs": []
  },
  {
   "metadata": {
    "trusted": false
   },
   "cell_type": "code",
   "source": "# ask a user for an item to add to your list and add that input to the list here",
   "execution_count": null,
   "outputs": []
  },
  {
   "metadata": {
    "trusted": false
   },
   "cell_type": "code",
   "source": "# sort your list here",
   "execution_count": null,
   "outputs": []
  },
  {
   "metadata": {
    "trusted": false
   },
   "cell_type": "code",
   "source": "# print the length of your list here",
   "execution_count": null,
   "outputs": []
  },
  {
   "metadata": {
    "trusted": false
   },
   "cell_type": "code",
   "source": "# write a for loop that prints a sentence including each item in the list using %s here.",
   "execution_count": null,
   "outputs": []
  },
  {
   "metadata": {
    "trusted": false
   },
   "cell_type": "code",
   "source": "",
   "execution_count": null,
   "outputs": []
  }
 ],
 "metadata": {
  "kernelspec": {
   "name": "python3",
   "display_name": "Python 3",
   "language": "python"
  },
  "language_info": {
   "name": "python",
   "version": "3.10.4",
   "mimetype": "text/x-python",
   "codemirror_mode": {
    "name": "ipython",
    "version": 3
   },
   "pygments_lexer": "ipython3",
   "nbconvert_exporter": "python",
   "file_extension": ".py"
  }
 },
 "nbformat": 4,
 "nbformat_minor": 2
}