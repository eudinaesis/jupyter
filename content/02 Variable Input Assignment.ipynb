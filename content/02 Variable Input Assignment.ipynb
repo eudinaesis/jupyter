{
 "cells": [
  {
   "metadata": {},
   "cell_type": "markdown",
   "source": "# Variable Input Assignment\n* In this lesson we will assign variables to values including integers, decimals, and strings.  \n* We will learn about **Boolean** types.  \n* We will introduce **if** statements.\n* We will solicit user input and work with types.  \n* We will learn some techniques to use with the print function when using variables.  \n* We will consider how computers execute code.\n\nNote from last notebook: More LaTeX math code can be found [here](https://www.andy-roberts.net/res/writing/latex/symbols.pdf)\n\n#### Move through this notebook running each of the cells in order.  When asked for input, follow the instruction for what to enter. Otherwise, make a new cell for each thing that you are asked to do and for any experiements that you wish to add in earlier in the notebook."
  },
  {
   "metadata": {},
   "cell_type": "markdown",
   "source": "In math class, you have learned to work with variables that are usually single letter such as $x$ or $y$ or perhaps the first letter of the thing you want it to stand for. When wew program, we use more descriptive variable names. Different families of programming languages have different variable naming conventions. In fact, next year when you learn to program Arduinos you will use ArduinoC which uses a slightly differnt naming conventions. For Pythin, we use underscores to separate words and use variable names that describe what the variable stands for. "
  },
  {
   "metadata": {},
   "cell_type": "markdown",
   "source": "### Key Variable Naming Requirement\n* Variable names should fully describe your variable, that is for what it is being used.\n* Words in a variable name should be separated by underscores"
  },
  {
   "metadata": {
    "trusted": true
   },
   "cell_type": "code",
   "source": "my_variable = 5\nmy_variable",
   "execution_count": 1,
   "outputs": [
    {
     "output_type": "execute_result",
     "execution_count": 1,
     "data": {
      "text/plain": "5"
     },
     "metadata": {}
    }
   ]
  },
  {
   "metadata": {
    "collapsed": true
   },
   "cell_type": "markdown",
   "source": "Notice above that I used an equals sign to **assign** a vaue to the variable. In math class, you use an equal sign to mean that two things are equivalent. But, in programming, you need to use two equals sign to **check for** equivalence."
  },
  {
   "metadata": {
    "trusted": true
   },
   "cell_type": "code",
   "source": "my_variable == 5",
   "execution_count": 2,
   "outputs": [
    {
     "output_type": "execute_result",
     "execution_count": 2,
     "data": {
      "text/plain": "True"
     },
     "metadata": {}
    }
   ]
  },
  {
   "metadata": {},
   "cell_type": "markdown",
   "source": "Notice that the above cell evaluates to **True**. This is a **Boolean** value. There are only two possible values a Boolean type can have. The other is ..."
  },
  {
   "metadata": {
    "trusted": true
   },
   "cell_type": "code",
   "source": "my_variable == 6",
   "execution_count": 3,
   "outputs": [
    {
     "output_type": "execute_result",
     "execution_count": 3,
     "data": {
      "text/plain": "False"
     },
     "metadata": {}
    }
   ]
  },
  {
   "metadata": {
    "trusted": true
   },
   "cell_type": "code",
   "source": "type(my_variable == 6)",
   "execution_count": 4,
   "outputs": [
    {
     "output_type": "execute_result",
     "execution_count": 4,
     "data": {
      "text/plain": "bool"
     },
     "metadata": {}
    }
   ]
  },
  {
   "metadata": {},
   "cell_type": "markdown",
   "source": "Notice that the whole statement above evaluated to a \"bool\" which stands for Boolean. This is important as many aspects of programming require working with Booleans. For example **conditional statements** depend on a true or false initial value."
  },
  {
   "metadata": {
    "trusted": true
   },
   "cell_type": "code",
   "source": "if my_variable == 5:\n    print(\"My variable is equal to five.\")",
   "execution_count": 5,
   "outputs": [
    {
     "output_type": "stream",
     "text": "My variable is equal to five.\n",
     "name": "stdout"
    }
   ]
  },
  {
   "metadata": {},
   "cell_type": "markdown",
   "source": "Note the syntax above. I have then something that **evaluates** to True or False followed by a colon. The next line is indented. (If you include the colon, it will automatically indent for you.) Then I write the thing that I want it to do if the statement evaluates to True."
  },
  {
   "metadata": {},
   "cell_type": "markdown",
   "source": "So when might I want to use a variable? Well, if I want to solict user input, I need to assign the input to something. **NOTE: normally we would just use the function `input()` but here we have to use `await input()` because of some odd complications with how Python is running in your web browser.**"
  },
  {
   "metadata": {
    "trusted": true
   },
   "cell_type": "code",
   "source": "your_number = await input(\"Enter a number:\")",
   "execution_count": 6,
   "outputs": [
    {
     "output_type": "stream",
     "name": "stdout",
     "text": "Enter a number:5763\n"
    }
   ]
  },
  {
   "metadata": {
    "trusted": true
   },
   "cell_type": "code",
   "source": "type(your_number)",
   "execution_count": 7,
   "outputs": [
    {
     "output_type": "execute_result",
     "execution_count": 7,
     "data": {
      "text/plain": "str"
     },
     "metadata": {}
    }
   ]
  },
  {
   "metadata": {},
   "cell_type": "markdown",
   "source": "Oh no!  That says that your number is a string. Why does that matter? Well...."
  },
  {
   "metadata": {
    "scrolled": true,
    "trusted": true
   },
   "cell_type": "code",
   "source": "your_number + 5",
   "execution_count": 8,
   "outputs": [
    {
     "output_type": "error",
     "ename": "TypeError",
     "evalue": "can only concatenate str (not \"int\") to str",
     "traceback": [
      "\u001b[0;31m---------------------------------------------------------------------------\u001b[0m",
      "\u001b[0;31mTypeError\u001b[0m                                 Traceback (most recent call last)",
      "\u001b[0;32m<ipython-input-8-32f69ff4576d>\u001b[0m in \u001b[0;36m<module>\u001b[0;34m\u001b[0m\n\u001b[0;32m----> 1\u001b[0;31m \u001b[0myour_number\u001b[0m \u001b[0;34m+\u001b[0m \u001b[0;36m5\u001b[0m\u001b[0;34m\u001b[0m\u001b[0;34m\u001b[0m\u001b[0m\n\u001b[0m",
      "\u001b[0;31mTypeError\u001b[0m: can only concatenate str (not \"int\") to str"
     ]
    }
   ]
  },
  {
   "metadata": {},
   "cell_type": "markdown",
   "source": "Notice that the error message is informative. **You will be expected to use error messages to debug your code, so take the time to study the error message above.**  \n* The error message tells you in the third line, preceded by an arrow that line 1 (in this case the only line) contains the error. It also tells you what that line says so you can find it. (Line numbers can be tured on under \"View\" or through your nbextensions menu.)\n* The last line tells you that the problem is that something must be a string, not an int. I used type() on the input and that said string, so that seems to be the problem.  \n* Note that if you run cells out of order, or reopen the notebook and start lower down, then you might find that you get undefined errors for variables or other things. You need to run the cells that define variables (or input libraries) before you use those variables (or libraries)."
  },
  {
   "metadata": {
    "trusted": true
   },
   "cell_type": "code",
   "source": "your_number = int(your_number)\ntype(your_number)",
   "execution_count": 9,
   "outputs": [
    {
     "output_type": "execute_result",
     "execution_count": 9,
     "data": {
      "text/plain": "int"
     },
     "metadata": {}
    }
   ]
  },
  {
   "metadata": {},
   "cell_type": "markdown",
   "source": "Notice that I used variable **assignment** to change the type of the variable. This can be confusing. I assigned the varoable to itself change to an integer. I can also assign a variable that is an integer to itself plus one.  \n# **Make a new cell below and assign a Variable to a value, th en to itself plus some other integer**."
  },
  {
   "metadata": {
    "trusted": false
   },
   "cell_type": "code",
   "source": "# make a variable that has an integer value. Then, assign it to itself plus another number, Lastly, print the variable.",
   "execution_count": null,
   "outputs": []
  },
  {
   "metadata": {
    "trusted": true
   },
   "cell_type": "code",
   "source": "your_number + 5",
   "execution_count": 10,
   "outputs": [
    {
     "output_type": "execute_result",
     "execution_count": 10,
     "data": {
      "text/plain": "5768"
     },
     "metadata": {}
    }
   ]
  },
  {
   "metadata": {},
   "cell_type": "markdown",
   "source": "Now it works.  Now let us consider printing the input number."
  },
  {
   "metadata": {
    "trusted": true
   },
   "cell_type": "code",
   "source": "print(\"Your number is\", your_number)",
   "execution_count": 11,
   "outputs": [
    {
     "output_type": "stream",
     "text": "Your number is 5763\n",
     "name": "stdout"
    }
   ]
  },
  {
   "metadata": {},
   "cell_type": "markdown",
   "source": "Notice that a simple comma gives me a nicely formatted sentence except for the period. Can I just add that using a comma and a string?  \n**Remember that strings need to be in single or double quotes.**"
  },
  {
   "metadata": {
    "trusted": true
   },
   "cell_type": "code",
   "source": "print(\"Your number is\", your_number, \".\")",
   "execution_count": 12,
   "outputs": [
    {
     "output_type": "stream",
     "text": "Your number is 5763 .\n",
     "name": "stdout"
    }
   ]
  },
  {
   "metadata": {},
   "cell_type": "markdown",
   "source": "Hmm.  Now I have an extra space. So I need to try something fancier. Study the code below."
  },
  {
   "metadata": {
    "trusted": false
   },
   "cell_type": "code",
   "source": "print(\"Your number is %s.\" % (your_number))",
   "execution_count": null,
   "outputs": []
  },
  {
   "metadata": {},
   "cell_type": "markdown",
   "source": "%s is replaced by the variable. After the quote, I have the % and then another set of parenthesis surrounding the variable that I want to include. This gives me a nicely formatted sentence. I can do both variables in this notebook together as shown below."
  },
  {
   "metadata": {
    "trusted": false
   },
   "cell_type": "code",
   "source": "print('My variable is %s and your number is %s' % (my_variable, your_number))",
   "execution_count": null,
   "outputs": []
  },
  {
   "metadata": {},
   "cell_type": "markdown",
   "source": "Lastly, let us consider that computers exercise code line by line in order. Jupyter notebooks can access information including variables, functions, and imported libraries from previous cells ony if thse cells have been run before them **since you last opened the notebook.**\n\nThis idea that computers execute code line by line is an important idea that we will return to over and over again."
  },
  {
   "metadata": {},
   "cell_type": "markdown",
   "source": "### Exercise: Variables and inputs.\n1. Assign a variable. Use correct naming conventions.\n* Input a number. Remember to assign it to a properly named variable. \n* Write an if statement that evaluates based on the type of the variable. (You will need to evaluate type(new_variable) == str) to do this.\n* Change the type of the variable to an integer. Remember that you need to assign it to its new type.\n* Input a name from your user to another properly named variable.\n* Print a sentence incorporating the input name and the input number using the %s format.\n* You may use multiple cells for this."
  },
  {
   "metadata": {
    "trusted": false
   },
   "cell_type": "code",
   "source": "# In this cell assign a value to a properly named variable",
   "execution_count": null,
   "outputs": []
  },
  {
   "metadata": {
    "trusted": false
   },
   "cell_type": "code",
   "source": "# In this cell input a number from your user. Be sure to assign it to another properly named variable.",
   "execution_count": null,
   "outputs": []
  },
  {
   "metadata": {
    "trusted": false
   },
   "cell_type": "code",
   "source": "# Write an if statement here that prints \"This is a string\" or similar if the variable from the cell above is a string",
   "execution_count": null,
   "outputs": []
  },
  {
   "metadata": {
    "trusted": false
   },
   "cell_type": "code",
   "source": "# Change the type of the variable to an int here",
   "execution_count": null,
   "outputs": []
  },
  {
   "metadata": {
    "trusted": false
   },
   "cell_type": "code",
   "source": "# Ask your user for their name. Be sure to assign this to a properly named variable",
   "execution_count": null,
   "outputs": []
  },
  {
   "metadata": {
    "trusted": false
   },
   "cell_type": "code",
   "source": "# Print a sentence incorparing multiple variables from above using %s here",
   "execution_count": null,
   "outputs": []
  }
 ],
 "metadata": {
  "anaconda-cloud": {},
  "kernelspec": {
   "name": "python3",
   "display_name": "Python 3",
   "language": "python"
  },
  "language_info": {
   "name": "python",
   "version": "3.10.4",
   "mimetype": "text/x-python",
   "codemirror_mode": {
    "name": "ipython",
    "version": 3
   },
   "pygments_lexer": "ipython3",
   "nbconvert_exporter": "python",
   "file_extension": ".py"
  }
 },
 "nbformat": 4,
 "nbformat_minor": 2
}
