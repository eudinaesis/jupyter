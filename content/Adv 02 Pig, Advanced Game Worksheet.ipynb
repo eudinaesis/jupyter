{
 "cells": [
  {
   "cell_type": "markdown",
   "metadata": {},
   "source": [
    "# Pig, Advanced Game\n",
    "The Rules for the Advanced version:  \n",
    "Players take turns rolling two standard, six-sided dice as follows: \n",
    "1. During their turn, a player may roll the dice as many times as they want, keeping a running total of the sums that come up as long as no 1s are rolled. When the player stops rolling, they record the total and add it to the running score from previous turns **as long as** they have not rolled any 1s.\n",
    "2. If a 1 is rolled on just one of the dice before the player decides to stop rolling, then the player gets 0 points for that turn and it's the next player's turn.\n",
    "3. If a 1 is rolled on both dice, the turn ends and their running total score is set to 0."
   ]
  },
  {
   "cell_type": "markdown",
   "metadata": {},
   "source": [
    "---\n",
    "#### Once again, we will start with our import statments and a helper function to roll two dice. \n",
    "\n",
    "This time, I want to make my sum return the actual sum only if no ones are rolled. I can return zero if a one is rolled as this is the score for the turn and can easily be separated. I need to return something different for (1,1) however that I can easily separate in the turn function from both zero and the sums for the other numbers. One option for this is a negative number.\n",
    "\n",
    "Remember to check your function using Counter over many trials."
   ]
  },
  {
   "cell_type": "code",
   "execution_count": null,
   "metadata": {},
   "outputs": [],
   "source": [
    "import random\n",
    "from collections import Counter"
   ]
  },
  {
   "cell_type": "code",
   "execution_count": null,
   "metadata": {},
   "outputs": [],
   "source": [
    "# write two_dice roll code here, if a single 1, return a zero, if 2 1s return a negative number have your function take a name\n",
    "# Have your function tell what each die roll is and say something about any 1's"
   ]
  },
  {
   "cell_type": "code",
   "execution_count": null,
   "metadata": {},
   "outputs": [],
   "source": [
    "# test your function here 10000 times into a list and Counter. Your Counter results will be below prints. Scroll to bottom."
   ]
  },
  {
   "cell_type": "markdown",
   "metadata": {},
   "source": [
    "Does the dice roll function look good?. I would expect $\\frac{10}{36}$ rolls to have a single 1 and $\\frac{1}{36}$ to be (1,1). 8 will be more common than 7 as a roll once (1,6) and (6,1) have been removed."
   ]
  },
  {
   "cell_type": "markdown",
   "metadata": {},
   "source": [
    "Now we are ready to write our computer turn simulator. Remember that we have three main strategy types that we can write and that an extension idea will be to write all of them.  Start with one on your first write.  \n",
    "  \n",
    "The three common strategies:\n",
    "* Roll up to a specific value and then stop.\n",
    "* Roll a certain number of times and then stop.\n",
    "* Roll until your total will beat your opponents’ and then stop. "
   ]
  },
  {
   "cell_type": "code",
   "execution_count": null,
   "metadata": {},
   "outputs": [],
   "source": [
    "# Choose a strategy and write computer turn code here. Be sure to give lost of info to the player."
   ]
  },
  {
   "cell_type": "code",
   "execution_count": null,
   "metadata": {},
   "outputs": [],
   "source": [
    "# test your computer strategy here."
   ]
  },
  {
   "cell_type": "markdown",
   "metadata": {},
   "source": [
    "Once we have one computer turn written and tested we can write the player turn."
   ]
  },
  {
   "cell_type": "code",
   "execution_count": null,
   "metadata": {},
   "outputs": [],
   "source": [
    "# write your human player turn code here - this should take a name"
   ]
  },
  {
   "cell_type": "code",
   "execution_count": null,
   "metadata": {},
   "outputs": [],
   "source": [
    "# test your human player code here"
   ]
  },
  {
   "cell_type": "markdown",
   "metadata": {},
   "source": [
    "Now we need to assemble the game. As with the brginner game, it's a good idea to make the points to play to default to 100, but be an argument that you can set. After each turn, it should report the current scores. We may need to go back and make the computer turns stop rolling if the computer wins the game. This may require passing more arguments to those functions. Then, the simulated turn will need to take the current score as an argument."
   ]
  },
  {
   "cell_type": "code",
   "execution_count": null,
   "metadata": {},
   "outputs": [],
   "source": [
    "# Write your game simulation here using your helper functions"
   ]
  },
  {
   "cell_type": "code",
   "execution_count": null,
   "metadata": {},
   "outputs": [],
   "source": [
    "# test your game here"
   ]
  },
  {
   "cell_type": "markdown",
   "metadata": {},
   "source": [
    "Once you have a working version of the game that gives plenty of information to the human player, consider the following extension possibilities.\n",
    "* make computer players for other strategies\n",
    "* set up a helper function that plays the computer turn based on a strategy passed to it (think about what other arguments this function will need to take so that it can pass them to the computer player functions) and modify your game to use this function for the computer turn\n",
    "* make a \"chaos\" option for your computer player helper function that chooses a random function and sets random values for value based and number of rolls based strategies.\n",
    "* You may go onto any of the other projects listed at the end of **08 Return of the Function Machines**"
   ]
  },
  {
   "cell_type": "code",
   "execution_count": null,
   "metadata": {},
   "outputs": [],
   "source": []
  }
 ],
 "metadata": {
  "kernelspec": {
   "display_name": "Python 3",
   "language": "python",
   "name": "python3"
  },
  "language_info": {
   "codemirror_mode": {
    "name": "ipython",
    "version": 3
   },
   "file_extension": ".py",
   "mimetype": "text/x-python",
   "name": "python",
   "nbconvert_exporter": "python",
   "pygments_lexer": "ipython3",
   "version": "3.6.5"
  }
 },
 "nbformat": 4,
 "nbformat_minor": 2
}
