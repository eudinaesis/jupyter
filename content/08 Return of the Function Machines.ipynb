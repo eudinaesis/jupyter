{
 "cells": [
  {
   "cell_type": "markdown",
   "metadata": {},
   "source": [
    "# Return of the Function Machines\n",
    "In this notebook you will learn:\n",
    "1. What it means for a function to return something\n",
    "* How a function return differs from printing an output\n",
    "* How to use the results of one function in another function.\n",
    "* Good coding habits: only one function in each cell"
   ]
  },
  {
   "cell_type": "markdown",
   "metadata": {},
   "source": [
    "Suppose I am trying to solve a complex problem involving a list Fibonacci numbers beginning with 1, 1 and want to be able to easily test in in pieces. Then I would want to make a function that produces those numbers and **returns** them so that I can pass the list into another function. Or suppose I am trying to solve a series of problems involving Fibonacci numbers. Then I would also want to write a **helper function** that just makes a list of those numbers and **returns** that list."
   ]
  },
  {
   "cell_type": "markdown",
   "metadata": {},
   "source": [
    "**Return**ing a list (or an integer, float or string) means that calling the functions creates the output rather than just printing, but not storing it. It allows me to, for example, assign the output to variable. "
   ]
  },
  {
   "cell_type": "code",
   "execution_count": null,
   "metadata": {},
   "outputs": [],
   "source": [
    "def fibonacci_list_maker(length):\n",
    "    fib1, fib2 = 1, 1\n",
    "    fibonacci_list = [1]\n",
    "    for item in range(length-1): # I started my list with one number so I want to do this 1 fewer times than list length\n",
    "        fibonacci_list.append(fib2)\n",
    "        fib1, fib2 = fib2, fib1+fib2      \n",
    "    return(fibonacci_list)"
   ]
  },
  {
   "cell_type": "markdown",
   "metadata": {},
   "source": [
    "Before I use this in another function, I want to make sure that it works correctly. Testing each function you write separately from connected functions is an expectation for this class. I can test this below. These are not print statement but **return**ed values, so they were list doing arithmetic: **only the last thing will output from the cell unless you use print statements.**"
   ]
  },
  {
   "cell_type": "code",
   "execution_count": null,
   "metadata": {},
   "outputs": [],
   "source": [
    "fibonacci_list_maker(5)"
   ]
  },
  {
   "cell_type": "code",
   "execution_count": null,
   "metadata": {},
   "outputs": [],
   "source": [
    "fibonacci_list_maker(10)"
   ]
  },
  {
   "cell_type": "code",
   "execution_count": null,
   "metadata": {},
   "outputs": [],
   "source": [
    "fibonacci_list_maker(0)"
   ]
  },
  {
   "cell_type": "markdown",
   "metadata": {},
   "source": [
    "Now that I have tested it a few times, I am confident that it does what I expect. **Note:** I expect that it will not work correctly unless I give it a number greater than 1. Passing it a zero still returns a list containing 1 as you see above. I tested this purposefully. Always test muliple cases.  What would it do if I passed it a neagtive number?\n",
    "\n",
    "### You test a negative value:"
   ]
  },
  {
   "cell_type": "code",
   "execution_count": null,
   "metadata": {},
   "outputs": [],
   "source": [
    "# Write your test for a negative number passed into the function here. Only one result will output per cell unless you use print"
   ]
  },
  {
   "cell_type": "markdown",
   "metadata": {},
   "source": [
    "Now that I have made and tested my **helper function** I can use it for other things.  Now I still need to select only the even numbers. So, I can write a function that takes the even numbers from a list and puts them into a new list. This is very simialr to the list reversing that I did in the last problem. You can call the list from the first function inside the new function.\n",
    "\n",
    "Suppose I want a function that takes a number and sums the first that many Fibonacci numbers. I can write another function for that."
   ]
  },
  {
   "cell_type": "code",
   "execution_count": null,
   "metadata": {},
   "outputs": [],
   "source": [
    "def fibonacci_sum(number):\n",
    "    fibonacci_sum = 0\n",
    "    fibonacci_list = fibonacci_list_maker(number)\n",
    "    for fib in fibonacci_list:\n",
    "        fibonacci_sum += fib\n",
    "    return fibonacci_sum\n",
    "        "
   ]
  },
  {
   "cell_type": "markdown",
   "metadata": {},
   "source": [
    "I always want to test my functions. I will start with something small, like 2 that I know the answer too."
   ]
  },
  {
   "cell_type": "code",
   "execution_count": null,
   "metadata": {},
   "outputs": [],
   "source": [
    "fibonacci_sum(2)"
   ]
  },
  {
   "cell_type": "code",
   "execution_count": null,
   "metadata": {},
   "outputs": [],
   "source": [
    "# write another test here"
   ]
  },
  {
   "cell_type": "code",
   "execution_count": null,
   "metadata": {},
   "outputs": [],
   "source": [
    "# write another test here"
   ]
  },
  {
   "cell_type": "code",
   "execution_count": null,
   "metadata": {},
   "outputs": [],
   "source": [
    "# write a third test here ... make sure you have tested multiple things"
   ]
  },
  {
   "cell_type": "markdown",
   "metadata": {},
   "source": [
    "What is the differnce between the first 100 Fiboncci numbers and the first 10 fibonacci numbers?"
   ]
  },
  {
   "cell_type": "code",
   "execution_count": null,
   "metadata": {},
   "outputs": [],
   "source": [
    "# find the difference requested above using the fibonacci_sum function."
   ]
  },
  {
   "cell_type": "markdown",
   "metadata": {},
   "source": [
    "### Exercise 1:\n",
    "1. Copy the function you wrote to print the list of digits for a number in the last notebook. \n",
    "* Convert it to return just a list of the digits. \n",
    "* Write a function (in a new cell) that determines the number of even and odd numbers in a list.\n",
    "* (In another new cell) input a number from your user and pass that number into your first function and then to your second function.  \n",
    "\n",
    "Use the comments in the cells below to help you understand the directions."
   ]
  },
  {
   "cell_type": "code",
   "execution_count": null,
   "metadata": {},
   "outputs": [],
   "source": [
    "# Here, copy your function to print the list of digits and modify it to return JUST the list of digits."
   ]
  },
  {
   "cell_type": "code",
   "execution_count": null,
   "metadata": {},
   "outputs": [],
   "source": [
    "# Here write a function to take a list of numbers and return the number of even and the number of odd digits."
   ]
  },
  {
   "cell_type": "markdown",
   "metadata": {},
   "source": [
    "### Exercise 2: [Project Euler Problem 2](https://projecteuler.net/problem=2)\n",
    "\n",
    "* register with Project Euler - make sure that you remember your username and password **There is no way to retrieve these if you lose them.**\n",
    "* You can use the link again to get back to the problem after registering\n",
    "* Copy (into the cell designated for it below) and modify the Fibonacci help code above to use for this project. Give it an appropriate new name as part of modifying.\n",
    "* Write a helper function to take a list and put **only the even** values of that list into a new list and **return** the new list. \n",
    "* Copy (into the designated cell **one function per cell**) and modify the sum function. Give it an appropriate new name as part of modifying.\n",
    "* Use your functions to answer the Project Euler problem.  Then sign in to Project Euler and check your answer from the link above.\n",
    "* Keep your test values much, much smaller than your end case. Your end case will take some time to run. You want your tests to be fast."
   ]
  },
  {
   "cell_type": "code",
   "execution_count": null,
   "metadata": {},
   "outputs": [],
   "source": [
    "# make this cell Markdown and copy the problem text here"
   ]
  },
  {
   "cell_type": "code",
   "execution_count": null,
   "metadata": {},
   "outputs": [],
   "source": [
    "# copy the fibonacci helper function here then change it's name and modify the code to find fibonacci numbers up to a number"
   ]
  },
  {
   "cell_type": "code",
   "execution_count": null,
   "metadata": {},
   "outputs": [],
   "source": [
    "# test your helper function here"
   ]
  },
  {
   "cell_type": "code",
   "execution_count": null,
   "metadata": {},
   "outputs": [],
   "source": [
    "# test a second time here"
   ]
  },
  {
   "cell_type": "code",
   "execution_count": null,
   "metadata": {},
   "outputs": [],
   "source": [
    "# write your evens only list helper function here"
   ]
  },
  {
   "cell_type": "code",
   "execution_count": null,
   "metadata": {},
   "outputs": [],
   "source": [
    "# test 1 of the evens function - use your first function to make a list for testing in this cell"
   ]
  },
  {
   "cell_type": "code",
   "execution_count": null,
   "metadata": {},
   "outputs": [],
   "source": [
    "# test a second time as above passing a longer list here from your first function here"
   ]
  },
  {
   "cell_type": "code",
   "execution_count": null,
   "metadata": {},
   "outputs": [],
   "source": [
    "# write your summing function here"
   ]
  },
  {
   "cell_type": "code",
   "execution_count": null,
   "metadata": {},
   "outputs": [],
   "source": [
    "# do a small test of your summing function with values passed through the first two functions here"
   ]
  },
  {
   "cell_type": "code",
   "execution_count": null,
   "metadata": {},
   "outputs": [],
   "source": [
    "# find the sum of the even fibonacci numbers less than 4 million here"
   ]
  },
  {
   "cell_type": "markdown",
   "metadata": {},
   "source": [
    "## Congratulations! You have finished the introductory worksheets.\n",
    "You can ...\n",
    "* Go on to the advanced worksheets for Pig, The Game beginner and advanced\n",
    "* Make a notebook in which you write a choose your own adventure style story that takes user input to determine the next step in the story.  Make lots of branching options if you choose to do this. You can spice this up by considering how to add random encounters into the story.\n",
    "* Work on more math-y Python programs with Project Euler. (Click on **Archives** to find the problem list.) For each problem you solve, list which problem number you worked on, the text of the problem, your code and your solution into a Jupyter notebook and submit one such notebook for each problem that you solve. You do not need to do these in order but they do get progressively more difficult. Stay on the first page of problems even if skipping ahead. Please stay only on the front page and first page of archives and the problems linked from the archives.\n",
    "* Work on less math-y problems (though many are still math-y) or somewhat lower entry math-y problems on [Code Abbey](https://www.codeabbey.com/index/task_list). You can make an account and check solutions here as well. Follow the same procedures as for Project Euler for your notebooks and put them into your submission folder. (If you click on **Volumes** you can sort somewhat by type of problem. Select any that both interest you and which you think you may be able to solve. Go ahead and challenge yourself!)  Please stay only on the front page, where you may login with your school google account but not follow any other links excpet the tabs listed next, the \"Problems\" page and the \"Volumes\" tab on which you may follow links to particular problems only. **Use notebooks to code your solutions and submit the. Then copy and paste into the problems. Work must be submitted as notebooks for credit.**/\n",
    "\n",
    "Whatever you choose, submit all completed notebooks to your folder as part of your portfolio for this unit."
   ]
  },
  {
   "cell_type": "code",
   "execution_count": null,
   "metadata": {},
   "outputs": [],
   "source": []
  }
 ],
 "metadata": {
  "kernelspec": {
   "display_name": "Python 3",
   "language": "python",
   "name": "python3"
  },
  "language_info": {
   "codemirror_mode": {
    "name": "ipython",
    "version": 3
   },
   "file_extension": ".py",
   "mimetype": "text/x-python",
   "name": "python",
   "nbconvert_exporter": "python",
   "pygments_lexer": "ipython3",
   "version": "3.6.5"
  }
 },
 "nbformat": 4,
 "nbformat_minor": 2
}
