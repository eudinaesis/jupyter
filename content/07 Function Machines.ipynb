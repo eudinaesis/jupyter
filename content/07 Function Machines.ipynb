{
 "cells": [
  {
   "cell_type": "markdown",
   "metadata": {},
   "source": [
    "# Function Machines I\n",
    "In this notebook you will learn:\n",
    "1. How functions in math and programming are the same and how they are different\n",
    "* How to write a function in Python that does not return anything\n",
    "* Naming conventions for functions (same as for variables)\n",
    "* Good coding habit: **only one function per cell** (Required style for this class)\n",
    "* Practice using for loops which were introduced in ***03 Strings and Things***"
   ]
  },
  {
   "cell_type": "markdown",
   "metadata": {},
   "source": [
    "In math class, you may have heard of cunction machines. These may have been explained as taking an input (often called $x$ and returned an output, often called $y$. The functions you have encountered in math so far probably took only one input and always returned one output.\n",
    "\n",
    "In programming, a function might take zero inputs, one input, or many inputs. Inputs can have a default value and not need to be passed to the function unless they differ from that. They may not return anything at all."
   ]
  },
  {
   "cell_type": "markdown",
   "metadata": {},
   "source": [
    "Suppose I need to determine if a number is odd or even. I may just want to know the asnwer to that directly. Then, I could have my function print the answer, but not **return** any value.  Study the code below:"
   ]
  },
  {
   "cell_type": "code",
   "execution_count": null,
   "metadata": {},
   "outputs": [],
   "source": [
    "def even_odd(number):\n",
    "    if number % 2 == 0:\n",
    "        print('The number is even.')\n",
    "    else:\n",
    "        print('The number is odd.')"
   ]
  },
  {
   "cell_type": "markdown",
   "metadata": {},
   "source": [
    "You may notice that nothings happens when I run the code although it appears to do print whether the number is even or odd.  This is because the code above only **defines** the function.\n",
    "\n",
    "In the definition above, I named my function even_odd and put number in parenthesis up against it. That means it takes a number as an input. (If there is no input, then I would still have the parenthesis, just nothing inside of them.\n",
    "\n",
    "If I want to use a function, then I need to **call** it. Below, I **call** the function, giving it a 3 as input:"
   ]
  },
  {
   "cell_type": "code",
   "execution_count": null,
   "metadata": {},
   "outputs": [],
   "source": [
    "even_odd(3)"
   ]
  },
  {
   "cell_type": "markdown",
   "metadata": {},
   "source": [
    "The function did it's job when called and told whether the number was even or odd."
   ]
  },
  {
   "cell_type": "markdown",
   "metadata": {},
   "source": [
    "### You try:"
   ]
  },
  {
   "cell_type": "code",
   "execution_count": null,
   "metadata": {},
   "outputs": [],
   "source": [
    "# Write a function here that takes a number and tells whether or not that number is a multiple of 3."
   ]
  },
  {
   "cell_type": "code",
   "execution_count": null,
   "metadata": {},
   "outputs": [],
   "source": [
    "# Call your function in this cell."
   ]
  },
  {
   "cell_type": "markdown",
   "metadata": {},
   "source": [
    "Before we continue on, we need to review for loops. Previously, we just used them to do something (print a line including) each item in a provided list.  We could also do something a set number of times using a for loop. We can also use the **range** function to do something a certain number of times."
   ]
  },
  {
   "cell_type": "code",
   "execution_count": null,
   "metadata": {},
   "outputs": [],
   "source": [
    "for item in range(8):\n",
    "    print(item)"
   ]
  },
  {
   "cell_type": "markdown",
   "metadata": {},
   "source": [
    "Notice that range(8) gave use 8 items, 0, 1, 2, 3, 4, 5, 6, and 7.\n",
    "\n",
    "If I wanted to go from 1 to 8, I could give the range functoin a specific starting point of 1, but I would beed to change my end point to 9 as the far end isn;t included just as with string slices."
   ]
  },
  {
   "cell_type": "code",
   "execution_count": null,
   "metadata": {},
   "outputs": [],
   "source": [
    "for item in range(1,9):\n",
    "    print(item)"
   ]
  },
  {
   "cell_type": "markdown",
   "metadata": {},
   "source": [
    "### Your turn:"
   ]
  },
  {
   "cell_type": "code",
   "execution_count": null,
   "metadata": {},
   "outputs": [],
   "source": [
    "# write a for loop that prints 8 numbers beginning with 3 here."
   ]
  },
  {
   "cell_type": "markdown",
   "metadata": {},
   "source": [
    "Suppose I want to take a list and put it in revwerse order. (This is different than **sort**ing alphabetically. I don't have any built in functions to do this.) As a note, list is a keyword, so I can't use that as the name for my input. I am going to use the length of the list as my range for this function. Remember that this will have a start value of zero.\n",
    "\n",
    "Study the code below:"
   ]
  },
  {
   "cell_type": "code",
   "execution_count": null,
   "metadata": {},
   "outputs": [],
   "source": [
    "def reverse_list(some_list):\n",
    "    reverse_list = [] # lists need to be started before appending to them\n",
    "    list_length = len(some_list)\n",
    "    for item in range(list_length):\n",
    "        backwards_index = -1-item # This will give -1 - 0 = -1, then -1 - 1 = -2 etc, indexing from the back of the list\n",
    "        reverse_list.append(some_list[backwards_index])\n",
    "    print(reverse_list)"
   ]
  },
  {
   "cell_type": "code",
   "execution_count": null,
   "metadata": {},
   "outputs": [],
   "source": [
    "school_supplies = ['pencil', 'pen', 'paper', 'laptop', 'binder', 'planner']\n",
    "reverse_list(school_supplies)"
   ]
  },
  {
   "cell_type": "markdown",
   "metadata": {},
   "source": [
    "### Exercise 1: Even elements\n",
    "Write a function that returns the even elements in a list."
   ]
  },
  {
   "cell_type": "code",
   "execution_count": null,
   "metadata": {},
   "outputs": [],
   "source": [
    "# define your function here"
   ]
  },
  {
   "cell_type": "code",
   "execution_count": null,
   "metadata": {},
   "outputs": [],
   "source": [
    "# enter your list and call your function here "
   ]
  },
  {
   "cell_type": "markdown",
   "metadata": {},
   "source": [
    "### Exercise 2: Return of Palindromes\n",
    "Write a function that determines whether a word is a palindrome and prints that answer. You may be able to reuse some previous ccode you wrote, but this time, use a for loop to allow you to test any length word.\n",
    "\n",
    "*Hint: interger division of the word length will give the number of letter pairs that you need to test."
   ]
  },
  {
   "cell_type": "code",
   "execution_count": null,
   "metadata": {},
   "outputs": [],
   "source": [
    "# define your function here."
   ]
  },
  {
   "cell_type": "code",
   "execution_count": null,
   "metadata": {},
   "outputs": [],
   "source": [
    "# Ask a user for a word (be sure to assign this input to a vaiable!) and then call your function on the input word"
   ]
  },
  {
   "cell_type": "markdown",
   "metadata": {},
   "source": [
    "### Exercise 3: Return the digits\n",
    "Write a function that takes a number and then prints a list of the digits with their place values."
   ]
  },
  {
   "cell_type": "code",
   "execution_count": null,
   "metadata": {},
   "outputs": [],
   "source": [
    "# define your function here"
   ]
  },
  {
   "cell_type": "code",
   "execution_count": null,
   "metadata": {},
   "outputs": [],
   "source": [
    "# Ask a user for a number (assign it to a variable!) and then call your function on it. Be sure to convert the input to an int."
   ]
  }
 ],
 "metadata": {
  "kernelspec": {
   "display_name": "Python 3",
   "language": "python",
   "name": "python3"
  },
  "language_info": {
   "codemirror_mode": {
    "name": "ipython",
    "version": 3
   },
   "file_extension": ".py",
   "mimetype": "text/x-python",
   "name": "python",
   "nbconvert_exporter": "python",
   "pygments_lexer": "ipython3",
   "version": "3.6.5"
  }
 },
 "nbformat": 4,
 "nbformat_minor": 2
}
